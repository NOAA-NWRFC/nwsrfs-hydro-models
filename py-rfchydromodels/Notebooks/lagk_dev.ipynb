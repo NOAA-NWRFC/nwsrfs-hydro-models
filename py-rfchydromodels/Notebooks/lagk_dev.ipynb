{
 "cells": [
  {
   "cell_type": "code",
   "execution_count": 1,
   "id": "61787384",
   "metadata": {},
   "outputs": [],
   "source": [
    "%load_ext autoreload\n",
    "%autoreload 2\n",
    "\n",
    "import os, sys\n",
    "import pandas as pd\n",
    "import numpy as np\n",
    "import matplotlib.pyplot as plt\n",
    "\n",
    "sys.path.append('..')\n",
    "from utilities import model_src as s\n",
    "from utilities.model import *\n",
    "from utilities.model_prep import *\n",
    "#import lagk_old.model_lagk as lagk\n",
    "\n",
    "\n",
    "#import nwsrfs_models.main as s\n",
    "#import lagk_f2py_old.model_lagk as lagk\n",
    "\n",
    "#from utilities.model import Model"
   ]
  },
  {
   "cell_type": "code",
   "execution_count": 2,
   "id": "67477f0b",
   "metadata": {},
   "outputs": [],
   "source": [
    "folder='/home/gwalters/Repo/nwrfc-auto-calibration/'"
   ]
  },
  {
   "cell_type": "code",
   "execution_count": 10,
   "id": "bb15fe81",
   "metadata": {},
   "outputs": [
    {
     "name": "stdout",
     "output_type": "stream",
     "text": [
      "lagk_out,inflow_st_out,outflow_st_out,storage_st_out = lagk(ita,itb,lagtbl_a_in,lagtbl_b_in,lagtbl_c_in,lagtbl_d_in,ktbl_a_in,ktbl_b_in,ktbl_c_in,ktbl_d_in,lagk_lagmax_in,lagk_kmax_in,lagk_qmax_in,lagk_lagmin_in,lagk_kmin_in,lagk_qmin_in,ico_in,iinfl_in,ioutfl_in,istor_in,qa_in,[n_hrus,sim_length])\n",
      "\n",
      "Wrapper for ``lagk``.\n",
      "\n",
      "Parameters\n",
      "----------\n",
      "ita : input int\n",
      "itb : input int\n",
      "lagtbl_a_in : input rank-1 array('d') with bounds (n_hrus)\n",
      "lagtbl_b_in : input rank-1 array('d') with bounds (n_hrus)\n",
      "lagtbl_c_in : input rank-1 array('d') with bounds (n_hrus)\n",
      "lagtbl_d_in : input rank-1 array('d') with bounds (n_hrus)\n",
      "ktbl_a_in : input rank-1 array('d') with bounds (n_hrus)\n",
      "ktbl_b_in : input rank-1 array('d') with bounds (n_hrus)\n",
      "ktbl_c_in : input rank-1 array('d') with bounds (n_hrus)\n",
      "ktbl_d_in : input rank-1 array('d') with bounds (n_hrus)\n",
      "lagk_lagmax_in : input rank-1 array('d') with bounds (n_hrus)\n",
      "lagk_kmax_in : input rank-1 array('d') with bounds (n_hrus)\n",
      "lagk_qmax_in : input rank-1 array('d') with bounds (n_hrus)\n",
      "lagk_lagmin_in : input rank-1 array('d') with bounds (n_hrus)\n",
      "lagk_kmin_in : input rank-1 array('d') with bounds (n_hrus)\n",
      "lagk_qmin_in : input rank-1 array('d') with bounds (n_hrus)\n",
      "ico_in : input rank-1 array('d') with bounds (n_hrus)\n",
      "iinfl_in : input rank-1 array('d') with bounds (n_hrus)\n",
      "ioutfl_in : input rank-1 array('d') with bounds (n_hrus)\n",
      "istor_in : input rank-1 array('d') with bounds (n_hrus)\n",
      "qa_in : input rank-2 array('d') with bounds (sim_length,n_hrus)\n",
      "\n",
      "Other Parameters\n",
      "----------------\n",
      "n_hrus : input int, optional\n",
      "    Default: len(lagtbl_a_in)\n",
      "sim_length : input int, optional\n",
      "    Default: shape(qa_in,0)\n",
      "\n",
      "Returns\n",
      "-------\n",
      "lagk_out : rank-2 array('d') with bounds (sim_length,n_hrus)\n",
      "inflow_st_out : rank-2 array('d') with bounds (sim_length,n_hrus)\n",
      "outflow_st_out : rank-2 array('d') with bounds (sim_length,n_hrus)\n",
      "storage_st_out : rank-2 array('d') with bounds (sim_length,n_hrus)\n",
      "\n"
     ]
    }
   ],
   "source": [
    "print(s.lagk.__doc__)"
   ]
  },
  {
   "cell_type": "code",
   "execution_count": 3,
   "id": "349be482",
   "metadata": {},
   "outputs": [
    {
     "ename": "ImportError",
     "evalue": "Missing optional dependency 'xlrd'. Install xlrd >= 1.0.0 for Excel support Use pip or conda to install xlrd.",
     "output_type": "error",
     "traceback": [
      "\u001b[0;31m---------------------------------------------------------------------------\u001b[0m",
      "\u001b[0;31mImportError\u001b[0m                               Traceback (most recent call last)",
      "\u001b[0;32m/tmp/ipykernel_2668/3136305425.py\u001b[0m in \u001b[0;36m<module>\u001b[0;34m\u001b[0m\n\u001b[0;32m----> 1\u001b[0;31m \u001b[0mconw1_chps\u001b[0m\u001b[0;34m=\u001b[0m\u001b[0mpd\u001b[0m\u001b[0;34m.\u001b[0m\u001b[0mread_excel\u001b[0m\u001b[0;34m(\u001b[0m\u001b[0mos\u001b[0m\u001b[0;34m.\u001b[0m\u001b[0mpath\u001b[0m\u001b[0;34m.\u001b[0m\u001b[0mjoin\u001b[0m\u001b[0;34m(\u001b[0m\u001b[0mfolder\u001b[0m\u001b[0;34m,\u001b[0m\u001b[0;34m'basins'\u001b[0m\u001b[0;34m,\u001b[0m\u001b[0;34m'Lagk_Testing'\u001b[0m\u001b[0;34m,\u001b[0m\u001b[0;34m'CONW1R_Lagk_Check.xlsx'\u001b[0m\u001b[0;34m)\u001b[0m\u001b[0;34m,\u001b[0m\u001b[0;34m'Flows'\u001b[0m\u001b[0;34m,\u001b[0m\u001b[0mindex_col\u001b[0m\u001b[0;34m=\u001b[0m\u001b[0;34m'Date_Time'\u001b[0m\u001b[0;34m,\u001b[0m\u001b[0mparse_dates\u001b[0m\u001b[0;34m=\u001b[0m\u001b[0;32mTrue\u001b[0m\u001b[0;34m)\u001b[0m\u001b[0;34m\u001b[0m\u001b[0;34m\u001b[0m\u001b[0m\n\u001b[0m\u001b[1;32m      2\u001b[0m \u001b[0mconw1\u001b[0m\u001b[0;34m=\u001b[0m\u001b[0mconw1_chps\u001b[0m\u001b[0;34m.\u001b[0m\u001b[0mCONW1\u001b[0m\u001b[0;34m.\u001b[0m\u001b[0mastype\u001b[0m\u001b[0;34m(\u001b[0m\u001b[0;34m'f4'\u001b[0m\u001b[0;34m)\u001b[0m\u001b[0;34m.\u001b[0m\u001b[0mto_numpy\u001b[0m\u001b[0;34m(\u001b[0m\u001b[0;34m)\u001b[0m\u001b[0;34m\u001b[0m\u001b[0;34m\u001b[0m\u001b[0m\n\u001b[1;32m      3\u001b[0m \u001b[0;34m\u001b[0m\u001b[0m\n\u001b[1;32m      4\u001b[0m \u001b[0msakw1_chps\u001b[0m\u001b[0;34m=\u001b[0m\u001b[0mpd\u001b[0m\u001b[0;34m.\u001b[0m\u001b[0mread_excel\u001b[0m\u001b[0;34m(\u001b[0m\u001b[0mos\u001b[0m\u001b[0;34m.\u001b[0m\u001b[0mpath\u001b[0m\u001b[0;34m.\u001b[0m\u001b[0mjoin\u001b[0m\u001b[0;34m(\u001b[0m\u001b[0mfolder\u001b[0m\u001b[0;34m,\u001b[0m\u001b[0;34m'basins'\u001b[0m\u001b[0;34m,\u001b[0m\u001b[0;34m'Lagk_Testing'\u001b[0m\u001b[0;34m,\u001b[0m\u001b[0;34m'SAKW1R_Lagk_Check.xlsx'\u001b[0m\u001b[0;34m)\u001b[0m\u001b[0;34m,\u001b[0m\u001b[0;34m'Flows'\u001b[0m\u001b[0;34m,\u001b[0m\u001b[0mindex_col\u001b[0m\u001b[0;34m=\u001b[0m\u001b[0;34m'Date_Time'\u001b[0m\u001b[0;34m,\u001b[0m\u001b[0mparse_dates\u001b[0m\u001b[0;34m=\u001b[0m\u001b[0;32mTrue\u001b[0m\u001b[0;34m)\u001b[0m\u001b[0;34m\u001b[0m\u001b[0;34m\u001b[0m\u001b[0m\n\u001b[1;32m      5\u001b[0m \u001b[0msakw1\u001b[0m\u001b[0;34m=\u001b[0m\u001b[0msakw1_chps\u001b[0m\u001b[0;34m.\u001b[0m\u001b[0mSAKW1\u001b[0m\u001b[0;34m.\u001b[0m\u001b[0mastype\u001b[0m\u001b[0;34m(\u001b[0m\u001b[0;34m'f4'\u001b[0m\u001b[0;34m)\u001b[0m\u001b[0;34m.\u001b[0m\u001b[0mto_numpy\u001b[0m\u001b[0;34m(\u001b[0m\u001b[0;34m)\u001b[0m\u001b[0;34m\u001b[0m\u001b[0;34m\u001b[0m\u001b[0m\n",
      "\u001b[0;32m~/conda_env/my_env/lib/python3.7/site-packages/pandas/util/_decorators.py\u001b[0m in \u001b[0;36mwrapper\u001b[0;34m(*args, **kwargs)\u001b[0m\n\u001b[1;32m    294\u001b[0m                 )\n\u001b[1;32m    295\u001b[0m                 \u001b[0mwarnings\u001b[0m\u001b[0;34m.\u001b[0m\u001b[0mwarn\u001b[0m\u001b[0;34m(\u001b[0m\u001b[0mmsg\u001b[0m\u001b[0;34m,\u001b[0m \u001b[0mFutureWarning\u001b[0m\u001b[0;34m,\u001b[0m \u001b[0mstacklevel\u001b[0m\u001b[0;34m=\u001b[0m\u001b[0mstacklevel\u001b[0m\u001b[0;34m)\u001b[0m\u001b[0;34m\u001b[0m\u001b[0;34m\u001b[0m\u001b[0m\n\u001b[0;32m--> 296\u001b[0;31m             \u001b[0;32mreturn\u001b[0m \u001b[0mfunc\u001b[0m\u001b[0;34m(\u001b[0m\u001b[0;34m*\u001b[0m\u001b[0margs\u001b[0m\u001b[0;34m,\u001b[0m \u001b[0;34m**\u001b[0m\u001b[0mkwargs\u001b[0m\u001b[0;34m)\u001b[0m\u001b[0;34m\u001b[0m\u001b[0;34m\u001b[0m\u001b[0m\n\u001b[0m\u001b[1;32m    297\u001b[0m \u001b[0;34m\u001b[0m\u001b[0m\n\u001b[1;32m    298\u001b[0m         \u001b[0;32mreturn\u001b[0m \u001b[0mwrapper\u001b[0m\u001b[0;34m\u001b[0m\u001b[0;34m\u001b[0m\u001b[0m\n",
      "\u001b[0;32m~/conda_env/my_env/lib/python3.7/site-packages/pandas/io/excel/_base.py\u001b[0m in \u001b[0;36mread_excel\u001b[0;34m(io, sheet_name, header, names, index_col, usecols, squeeze, dtype, engine, converters, true_values, false_values, skiprows, nrows, na_values, keep_default_na, na_filter, verbose, parse_dates, date_parser, thousands, comment, skipfooter, convert_float, mangle_dupe_cols)\u001b[0m\n\u001b[1;32m    302\u001b[0m \u001b[0;34m\u001b[0m\u001b[0m\n\u001b[1;32m    303\u001b[0m     \u001b[0;32mif\u001b[0m \u001b[0;32mnot\u001b[0m \u001b[0misinstance\u001b[0m\u001b[0;34m(\u001b[0m\u001b[0mio\u001b[0m\u001b[0;34m,\u001b[0m \u001b[0mExcelFile\u001b[0m\u001b[0;34m)\u001b[0m\u001b[0;34m:\u001b[0m\u001b[0;34m\u001b[0m\u001b[0;34m\u001b[0m\u001b[0m\n\u001b[0;32m--> 304\u001b[0;31m         \u001b[0mio\u001b[0m \u001b[0;34m=\u001b[0m \u001b[0mExcelFile\u001b[0m\u001b[0;34m(\u001b[0m\u001b[0mio\u001b[0m\u001b[0;34m,\u001b[0m \u001b[0mengine\u001b[0m\u001b[0;34m=\u001b[0m\u001b[0mengine\u001b[0m\u001b[0;34m)\u001b[0m\u001b[0;34m\u001b[0m\u001b[0;34m\u001b[0m\u001b[0m\n\u001b[0m\u001b[1;32m    305\u001b[0m     \u001b[0;32melif\u001b[0m \u001b[0mengine\u001b[0m \u001b[0;32mand\u001b[0m \u001b[0mengine\u001b[0m \u001b[0;34m!=\u001b[0m \u001b[0mio\u001b[0m\u001b[0;34m.\u001b[0m\u001b[0mengine\u001b[0m\u001b[0;34m:\u001b[0m\u001b[0;34m\u001b[0m\u001b[0;34m\u001b[0m\u001b[0m\n\u001b[1;32m    306\u001b[0m         raise ValueError(\n",
      "\u001b[0;32m~/conda_env/my_env/lib/python3.7/site-packages/pandas/io/excel/_base.py\u001b[0m in \u001b[0;36m__init__\u001b[0;34m(self, path_or_buffer, engine)\u001b[0m\n\u001b[1;32m    865\u001b[0m         \u001b[0mself\u001b[0m\u001b[0;34m.\u001b[0m\u001b[0m_io\u001b[0m \u001b[0;34m=\u001b[0m \u001b[0mstringify_path\u001b[0m\u001b[0;34m(\u001b[0m\u001b[0mpath_or_buffer\u001b[0m\u001b[0;34m)\u001b[0m\u001b[0;34m\u001b[0m\u001b[0;34m\u001b[0m\u001b[0m\n\u001b[1;32m    866\u001b[0m \u001b[0;34m\u001b[0m\u001b[0m\n\u001b[0;32m--> 867\u001b[0;31m         \u001b[0mself\u001b[0m\u001b[0;34m.\u001b[0m\u001b[0m_reader\u001b[0m \u001b[0;34m=\u001b[0m \u001b[0mself\u001b[0m\u001b[0;34m.\u001b[0m\u001b[0m_engines\u001b[0m\u001b[0;34m[\u001b[0m\u001b[0mengine\u001b[0m\u001b[0;34m]\u001b[0m\u001b[0;34m(\u001b[0m\u001b[0mself\u001b[0m\u001b[0;34m.\u001b[0m\u001b[0m_io\u001b[0m\u001b[0;34m)\u001b[0m\u001b[0;34m\u001b[0m\u001b[0;34m\u001b[0m\u001b[0m\n\u001b[0m\u001b[1;32m    868\u001b[0m \u001b[0;34m\u001b[0m\u001b[0m\n\u001b[1;32m    869\u001b[0m     \u001b[0;32mdef\u001b[0m \u001b[0m__fspath__\u001b[0m\u001b[0;34m(\u001b[0m\u001b[0mself\u001b[0m\u001b[0;34m)\u001b[0m\u001b[0;34m:\u001b[0m\u001b[0;34m\u001b[0m\u001b[0;34m\u001b[0m\u001b[0m\n",
      "\u001b[0;32m~/conda_env/my_env/lib/python3.7/site-packages/pandas/io/excel/_xlrd.py\u001b[0m in \u001b[0;36m__init__\u001b[0;34m(self, filepath_or_buffer)\u001b[0m\n\u001b[1;32m     19\u001b[0m         \"\"\"\n\u001b[1;32m     20\u001b[0m         \u001b[0merr_msg\u001b[0m \u001b[0;34m=\u001b[0m \u001b[0;34m\"Install xlrd >= 1.0.0 for Excel support\"\u001b[0m\u001b[0;34m\u001b[0m\u001b[0;34m\u001b[0m\u001b[0m\n\u001b[0;32m---> 21\u001b[0;31m         \u001b[0mimport_optional_dependency\u001b[0m\u001b[0;34m(\u001b[0m\u001b[0;34m\"xlrd\"\u001b[0m\u001b[0;34m,\u001b[0m \u001b[0mextra\u001b[0m\u001b[0;34m=\u001b[0m\u001b[0merr_msg\u001b[0m\u001b[0;34m)\u001b[0m\u001b[0;34m\u001b[0m\u001b[0;34m\u001b[0m\u001b[0m\n\u001b[0m\u001b[1;32m     22\u001b[0m         \u001b[0msuper\u001b[0m\u001b[0;34m(\u001b[0m\u001b[0;34m)\u001b[0m\u001b[0;34m.\u001b[0m\u001b[0m__init__\u001b[0m\u001b[0;34m(\u001b[0m\u001b[0mfilepath_or_buffer\u001b[0m\u001b[0;34m)\u001b[0m\u001b[0;34m\u001b[0m\u001b[0;34m\u001b[0m\u001b[0m\n\u001b[1;32m     23\u001b[0m \u001b[0;34m\u001b[0m\u001b[0m\n",
      "\u001b[0;32m~/conda_env/my_env/lib/python3.7/site-packages/pandas/compat/_optional.py\u001b[0m in \u001b[0;36mimport_optional_dependency\u001b[0;34m(name, extra, raise_on_missing, on_version)\u001b[0m\n\u001b[1;32m    108\u001b[0m     \u001b[0;32mexcept\u001b[0m \u001b[0mImportError\u001b[0m\u001b[0;34m:\u001b[0m\u001b[0;34m\u001b[0m\u001b[0;34m\u001b[0m\u001b[0m\n\u001b[1;32m    109\u001b[0m         \u001b[0;32mif\u001b[0m \u001b[0mraise_on_missing\u001b[0m\u001b[0;34m:\u001b[0m\u001b[0;34m\u001b[0m\u001b[0;34m\u001b[0m\u001b[0m\n\u001b[0;32m--> 110\u001b[0;31m             \u001b[0;32mraise\u001b[0m \u001b[0mImportError\u001b[0m\u001b[0;34m(\u001b[0m\u001b[0mmsg\u001b[0m\u001b[0;34m)\u001b[0m \u001b[0;32mfrom\u001b[0m \u001b[0;32mNone\u001b[0m\u001b[0;34m\u001b[0m\u001b[0;34m\u001b[0m\u001b[0m\n\u001b[0m\u001b[1;32m    111\u001b[0m         \u001b[0;32melse\u001b[0m\u001b[0;34m:\u001b[0m\u001b[0;34m\u001b[0m\u001b[0;34m\u001b[0m\u001b[0m\n\u001b[1;32m    112\u001b[0m             \u001b[0;32mreturn\u001b[0m \u001b[0;32mNone\u001b[0m\u001b[0;34m\u001b[0m\u001b[0;34m\u001b[0m\u001b[0m\n",
      "\u001b[0;31mImportError\u001b[0m: Missing optional dependency 'xlrd'. Install xlrd >= 1.0.0 for Excel support Use pip or conda to install xlrd."
     ]
    }
   ],
   "source": [
    "conw1_chps=pd.read_excel(os.path.join(folder,'basins','Lagk_Testing','CONW1R_Lagk_Check.xlsx'),'Flows',index_col='Date_Time',parse_dates=True)\n",
    "conw1=conw1_chps.CONW1.astype('f4').to_numpy()\n",
    "\n",
    "sakw1_chps=pd.read_excel(os.path.join(folder,'basins','Lagk_Testing','SAKW1R_Lagk_Check.xlsx'),'Flows',index_col='Date_Time',parse_dates=True)\n",
    "sakw1=sakw1_chps.SAKW1.astype('f4').to_numpy()"
   ]
  },
  {
   "cell_type": "code",
   "execution_count": null,
   "id": "4484cd06",
   "metadata": {},
   "outputs": [],
   "source": [
    "pars_1zone = pd.read_csv(os.path.join(folder,'basins','TLMO3-1zone','results_01','pars_optimal.csv'))\n",
    "pars_2zone = pd.read_csv(os.path.join(folder,'basins','TLMO3-2zone','results_01','pars_optimal.csv'))\n",
    "pars_2zone_2route = pd.read_csv(os.path.join(folder,'basins','TLMO3-2zone-2route','results_01','pars_optimal.csv'))\n",
    "\n",
    "forcings_1zone = [pd.read_csv(os.path.join(folder,'basins','TLMO3-1zone','forcing_TLMO3-1.csv'))]\n",
    "forcings_2zone = [pd.read_csv(os.path.join(folder,'basins','TLMO3-2zone','forcing_TLMO3-1.csv')),\n",
    "                  pd.read_csv(os.path.join(folder,'basins','TLMO3-2zone','forcing_TLMO3-2.csv'))]\n",
    "forcings_2zone_2route = [pd.read_csv(os.path.join(folder,'basins','TLMO3-2zone-2route','forcing_TLMO3-1.csv')),\n",
    "                  pd.read_csv(os.path.join(folder,'basins','TLMO3-2zone-2route','forcing_TLMO3-2.csv'))]\n",
    "\n",
    "upflow_2zone_2route=[pd.read_csv(os.path.join(folder,'basins','TLMO3-2zone-2route','upflow_CONW1.csv')),\n",
    "                  pd.read_csv(os.path.join(folder,'basins','TLMO3-2zone-2route','upflow_SAKW1.csv'))]\n",
    "\n",
    "flow = pd.read_csv(os.path.join(folder,'basins','TLMO3-1zone','results_01','optimal_6h.csv'))\n",
    "states = pd.read_csv(os.path.join(folder,'basins','TLMO3-2zone','results_01','optimal_states_6h.csv'))\n",
    "\n",
    "flow.rename(columns={'sim_flow_cfs':'sim_flow_cfs_r'},inplace=True)\n",
    "\n",
    "forcings_1zone[0].index = pd.to_datetime(forcings_1zone[0][['year', 'month', 'day', 'hour']])\n",
    "for f in forcings_2zone:\n",
    "    f.index = pd.to_datetime(f[['year', 'month', 'day', 'hour']])\n",
    "for f in forcings_2zone_2route:\n",
    "    f.index = pd.to_datetime(f[['year', 'month', 'day', 'hour']])\n",
    "for f in upflow_2zone_2route:\n",
    "    f.index = pd.to_datetime(f[['year', 'month', 'day', 'hour']])\n",
    "flow.index = pd.to_datetime(flow[['year', 'month', 'day', 'hour']])\n",
    "flow['datetime'] = flow.index\n",
    "\n",
    "#basin = 'TLMO3'\n",
    "\n",
    "#fa_limits_basin = pd.read_csv(os.path.join(folder,'forcing-adj-limits_climo.csv'))\n",
    "#fa_limits_basin = fa_limits_basin[(fa_limits_basin['basin']==basin) &\n",
    "#                      (fa_limits_basin['zone']==basin+'-1')].copy()"
   ]
  },
  {
   "cell_type": "code",
   "execution_count": null,
   "id": "e7ad24aa",
   "metadata": {},
   "outputs": [],
   "source": [
    "help(s)"
   ]
  },
  {
   "cell_type": "code",
   "execution_count": null,
   "id": "6b258482",
   "metadata": {},
   "outputs": [],
   "source": [
    "m_2zone_2route.uptribs[:,1]"
   ]
  },
  {
   "cell_type": "code",
   "execution_count": null,
   "id": "89540237",
   "metadata": {},
   "outputs": [],
   "source": [
    "wrapper=pd.DataFrame(route,index=upflow_2zone_2route[1].index)\n",
    "sa=pd.DataFrame(m_2zone_2route.uptribs[:,1],index=upflow_2zone_2route[0].index)\n",
    "\n",
    "d_start='11/5/1984'\n",
    "d_end='2/15/1985'\n",
    "\n",
    "plt.plot(wrapper.loc[d_start:d_end],label='down')\n",
    "plt.plot(sa.loc[d_start:d_end],label='up')\n",
    "plt.legend()"
   ]
  },
  {
   "cell_type": "code",
   "execution_count": null,
   "id": "6feadcab",
   "metadata": {},
   "outputs": [],
   "source": [
    "m_2zone_2route = Model(forcings_2zone_2route,pars_2zone_2route,upflow_2zone_2route,flow)\n",
    "route=m_2zone_2route.lagk_run(1)"
   ]
  },
  {
   "cell_type": "code",
   "execution_count": null,
   "id": "7a310ebb",
   "metadata": {},
   "outputs": [],
   "source": [
    "m_2zone_2route = Model(forcings_2zone_2route,pars_2zone_2route,upflow_2zone_2route,flow)\n",
    "par=m_2zone_2route.p\n",
    "z=[0,1]\n",
    "\n",
    "t=s.lagk(m_2zone_2route.dt_hours,m_2zone_2route.dt_hours,'METR',par['lagq'][:,z],\n",
    "                    par['kq'][:,z], par['init_co'][z],par['init_if'][z],\n",
    "                    par['init_of'][z],par['init_stor'][z],\n",
    "                    m_2zone_2route.uptribs[:,z]*0.0283168)\n",
    "\n",
    "\n",
    "\n",
    "plt.plot(pd.DataFrame(t,index=upflow_2zone_2route[0].index))\n",
    "#k_start=int(t[17])\n",
    "#k_len=int(t[k_start-1])\n",
    "#pina7_len=int(t[k_start+2*k_len])\n",
    "#p_end=k_start+2*(k_len+pina7_len)+1\n",
    "#t=t[:p_end]\n",
    "#t"
   ]
  },
  {
   "cell_type": "code",
   "execution_count": null,
   "id": "9908b3ea",
   "metadata": {},
   "outputs": [],
   "source": [
    "m_2zone_2route = Model(forcings_2zone_2route,pars_2zone_2route,upflow_2zone_2route,flow)\n",
    "par=m_2zone_2route.p\n",
    "z=0\n",
    "\n",
    "p, c = lagk.pin7(m_2zone_2route.dt_hours,m_2zone_2route.dt_hours,par['n_lagq'][z],par['n_kq'][z],\n",
    "        'METR',par['lagq'][:,z],par['kq'][:,z],par['init_co'][z],par['init_if'][z],par['init_of'][z],\n",
    "        par['init_stor'][z])\n",
    "\n",
    "\n",
    "c_copy=c.copy()\n",
    "qb=lagk.flag7(p,c_copy,m_2zone_2route.uptribs[:,z]*0.0283168)\n",
    "qc=lagk.fka7(p,c_copy,qb)\n",
    "\n",
    "#c_copy=c.copy()\n",
    "#qb=s.flag7(p,c_copy,sakw1*0.0283168)\n",
    "#k_start=int(p[17])\n",
    "#k_len=int(p[k_start-1])\n",
    "#pina7_len=int(p[k_start+2*k_len])\n",
    "#p_end=k_start+2*(k_len+pina7_len)+1\n",
    "#p=p[:p_end]\n",
    "#p"
   ]
  },
  {
   "cell_type": "code",
   "execution_count": null,
   "id": "27b91fc5",
   "metadata": {},
   "outputs": [],
   "source": [
    "wrapper=pd.DataFrame(t,index=upflow_2zone_2route[0].index)\n",
    "sa=pd.DataFrame(qc,index=upflow_2zone_2route[0].index)\n",
    "\n",
    "d_start='11/5/1984'\n",
    "d_end='2/15/1985'\n",
    "\n",
    "plt.plot(wrapper.loc[d_start:d_end])\n",
    "plt.plot(sa.loc[d_start:d_end])"
   ]
  },
  {
   "cell_type": "code",
   "execution_count": 3,
   "id": "c9a25626",
   "metadata": {},
   "outputs": [],
   "source": [
    "lid='MNSW1'\n",
    "run='results_por_08'\n",
    "run_dir=os.path.join(folder,'Runs','uh_shift','2zone',lid)\n",
    "\n",
    "forcing, pars, upflow, flow =nwsrfs_prep(run_dir,run)\n",
    "sim = Model(forcing,pars,upflow,flow)\n",
    "\n",
    "chps_lagk=pd.read_csv('MNSW1_LagK_Debug.csv',index_col='GMT',parse_dates=True)\n",
    "chps_lagk.index=chps_lagk.index+pd.Timedelta(-6, unit='H')"
   ]
  },
  {
   "cell_type": "code",
   "execution_count": 4,
   "id": "23680b58",
   "metadata": {},
   "outputs": [],
   "source": [
    "#RUN LAGK#\n",
    "ts_in=6\n",
    "ts_out=6\n",
    "units='METR'#'ENGL'#'METR'\n",
    "if units =='METR':\n",
    "    lagq=np.array([9.42, 7.68, 8.66, 47.86, 7.83, 88.05, 6.92, 128.23, 5.95, 168.41,4.90, 208.60, 3.78, 248.78, 2.59, 288.96, 2.0, 329.15, 2.0, 369.33,2.0,409.51],dtype='f4')\n",
    "    kq=np.array([4.54, 7.68, 3.56, 47.86, 2.49, 88.05,1.33, 128.23, .07, 168.41,0.0, 208.60, 0.0, 248.78, 0.0, 288.96, 0.0, 329.15, 0.0, 369.33,0.0,409.51],dtype='f4')\n",
    "    init_co=float(6025*0.0283168e0)\n",
    "    init_if=float(6018*0.0283168e0)\n",
    "    init_of=float(6018*0.0283168e0)\n",
    "    init_stor=float(6307*0.0283168e0)   \n",
    "else:\n",
    "    lagq=np.array([9.42, 271.25, 8.66, 1690.31, 7.83, 3109.36, 6.92, 4528.42, 5.95, 5947.47,4.90, 7366.52, 3.78, 8785.58, 2.59, 10204.63, 2.0, 11623.69, 2.0, 13042.74,2.0,14461.79],dtype='f4')\n",
    "    kq=np.array([4.54, 271.25, 3.56, 1690.31, 2.49, 3109.36,1.33, 4528.42, .07, 5947.47,0.0, 7366.52, 0.0, 8785.58, 0.0, 10204.63, 0.0, 11623.69, 0.0, 13042.74,0.0,14461.79],dtype='f4')\n",
    "    init_co=float(6025)\n",
    "    init_if=float(6018)\n",
    "    init_of=float(6018)\n",
    "    init_stor=float(6307)\n",
    "\n",
    "len_lagq=len(lagq)/2\n",
    "len_kq=len(kq)/2"
   ]
  },
  {
   "cell_type": "code",
   "execution_count": 5,
   "id": "e751bb55",
   "metadata": {},
   "outputs": [],
   "source": [
    "p=np.empty(500,dtype='f4')\n",
    "c=np.empty(100,dtype='f4')\n",
    "s.pin7(p,c,ts_in,ts_out,len_lagq,len_kq,units,lagq,kq,init_co,init_if,init_of,init_stor)\n",
    "#p, c = s.pin7(ts_in,ts_out,len_lagq,len_kq,units,lagq,kq,init_co,init_if,init_of,init_stor)"
   ]
  },
  {
   "cell_type": "code",
   "execution_count": 6,
   "id": "8f19f83d",
   "metadata": {
    "scrolled": true
   },
   "outputs": [],
   "source": [
    "k_start=int(p[17])\n",
    "k_len=int(p[k_start-1])\n",
    "pina7_len=int(p[k_start+2*k_len])\n",
    "p_end=k_start+2*(k_len+pina7_len)+1\n",
    "p=p[:p_end]\n",
    "c=c[:int(c[0])]"
   ]
  },
  {
   "cell_type": "code",
   "execution_count": 7,
   "id": "b93189f5",
   "metadata": {},
   "outputs": [
    {
     "name": "stdout",
     "output_type": "stream",
     "text": [
      "flag7(p,c,qa,qb,co_st,co_time,[ndt])\n",
      "\n",
      "Wrapper for ``flag7``.\n",
      "\n",
      "Parameters\n",
      "----------\n",
      "p : input rank-1 array('f') with bounds (*)\n",
      "c : input rank-1 array('f') with bounds (*)\n",
      "qa : input rank-1 array('f') with bounds (ndt)\n",
      "qb : input rank-1 array('f') with bounds (ndt)\n",
      "co_st : input rank-1 array('f') with bounds (ndt)\n",
      "co_time : input rank-1 array('f') with bounds (ndt)\n",
      "\n",
      "Other Parameters\n",
      "----------------\n",
      "ndt : input int, optional\n",
      "    Default: len(qa)\n",
      "\n"
     ]
    }
   ],
   "source": [
    "print(s.flag7.__doc__)"
   ]
  },
  {
   "cell_type": "code",
   "execution_count": 7,
   "id": "2d181710",
   "metadata": {},
   "outputs": [],
   "source": [
    "c_copy=c.copy()\n",
    "qb=np.empty(len(sim.uptribs),dtype='f4')\n",
    "co=np.empty(len(sim.uptribs),dtype='f4')\n",
    "co_time=np.empty(len(sim.uptribs),dtype='f4')\n",
    "s.flag7(p,c_copy,sim.uptribs*0.0283168,qb,co,co_time)"
   ]
  },
  {
   "cell_type": "code",
   "execution_count": 113,
   "id": "275bc55e",
   "metadata": {},
   "outputs": [
    {
     "data": {
      "text/plain": [
       "array([ 11.01     , 170.4105   , 170.4105   , 178.59406  ,   3.01     ,\n",
       "         5.912009 ,   3.40625  ,   5.7422857,   9.40625  ,   0.       ,\n",
       "         0.       ], dtype=float32)"
      ]
     },
     "execution_count": 113,
     "metadata": {},
     "output_type": "execute_result"
    }
   ],
   "source": [
    "c_copy"
   ]
  },
  {
   "cell_type": "code",
   "execution_count": 14,
   "id": "82527cd4",
   "metadata": {
    "scrolled": false
   },
   "outputs": [
    {
     "ename": "NameError",
     "evalue": "name 'sim' is not defined",
     "output_type": "error",
     "traceback": [
      "\u001b[0;31m---------------------------------------------------------------------------\u001b[0m",
      "\u001b[0;31mNameError\u001b[0m                                 Traceback (most recent call last)",
      "\u001b[0;32m/tmp/ipykernel_27316/2630496067.py\u001b[0m in \u001b[0;36m<module>\u001b[0;34m\u001b[0m\n\u001b[1;32m      3\u001b[0m \u001b[0;31m#qc=s.fka7(p,c_copy,qb)\u001b[0m\u001b[0;34m\u001b[0m\u001b[0;34m\u001b[0m\u001b[0;34m\u001b[0m\u001b[0m\n\u001b[1;32m      4\u001b[0m \u001b[0;34m\u001b[0m\u001b[0m\n\u001b[0;32m----> 5\u001b[0;31m \u001b[0mqb\u001b[0m\u001b[0;34m=\u001b[0m\u001b[0mnp\u001b[0m\u001b[0;34m.\u001b[0m\u001b[0mempty\u001b[0m\u001b[0;34m(\u001b[0m\u001b[0mlen\u001b[0m\u001b[0;34m(\u001b[0m\u001b[0msim\u001b[0m\u001b[0;34m.\u001b[0m\u001b[0muptribs\u001b[0m\u001b[0;34m)\u001b[0m\u001b[0;34m,\u001b[0m\u001b[0mdtype\u001b[0m\u001b[0;34m=\u001b[0m\u001b[0;34m'f4'\u001b[0m\u001b[0;34m)\u001b[0m\u001b[0;34m\u001b[0m\u001b[0;34m\u001b[0m\u001b[0m\n\u001b[0m\u001b[1;32m      6\u001b[0m \u001b[0ms\u001b[0m\u001b[0;34m.\u001b[0m\u001b[0mflag7\u001b[0m\u001b[0;34m(\u001b[0m\u001b[0mp\u001b[0m\u001b[0;34m,\u001b[0m\u001b[0mc_copy\u001b[0m\u001b[0;34m,\u001b[0m\u001b[0msim\u001b[0m\u001b[0;34m.\u001b[0m\u001b[0muptribs\u001b[0m\u001b[0;34m*\u001b[0m\u001b[0;36m0.0283168\u001b[0m\u001b[0;34m,\u001b[0m\u001b[0mqb\u001b[0m\u001b[0;34m)\u001b[0m\u001b[0;34m\u001b[0m\u001b[0;34m\u001b[0m\u001b[0m\n\u001b[1;32m      7\u001b[0m \u001b[0mqc\u001b[0m\u001b[0;34m=\u001b[0m\u001b[0mnp\u001b[0m\u001b[0;34m.\u001b[0m\u001b[0mempty\u001b[0m\u001b[0;34m(\u001b[0m\u001b[0mlen\u001b[0m\u001b[0;34m(\u001b[0m\u001b[0msim\u001b[0m\u001b[0;34m.\u001b[0m\u001b[0muptribs\u001b[0m\u001b[0;34m)\u001b[0m\u001b[0;34m,\u001b[0m\u001b[0mdtype\u001b[0m\u001b[0;34m=\u001b[0m\u001b[0;34m'f4'\u001b[0m\u001b[0;34m)\u001b[0m\u001b[0;34m\u001b[0m\u001b[0;34m\u001b[0m\u001b[0m\n",
      "\u001b[0;31mNameError\u001b[0m: name 'sim' is not defined"
     ]
    }
   ],
   "source": [
    "c_copy=c.copy()\n",
    "#qb=s.flag7(p,c_copy,sakw1*0.0283168)\n",
    "#qc=s.fka7(p,c_copy,qb)\n",
    "\n",
    "qb=np.empty(len(sim.uptribs),dtype='f4')\n",
    "s.flag7(p,c_copy,sim.uptribs*0.0283168,qb)\n",
    "qc=np.empty(len(sim.uptribs),dtype='f4')\n",
    "s.fka7(p,c_copy,qb,qc)\n",
    "\n",
    "#fortran_output=pd.DataFrame({'Lagged':qb,'Attenuated':qc},index=sakw1_chps.index)\n",
    "fortran_output=pd.DataFrame({'Lagged':qb,'Attenuated':qc},index=sim.dates)\n",
    "\n",
    "#ts_test['Lagged']=qb*35.3147#qb[:len(ts)]*35.3147\n",
    "#ts_test['Attenuated']=qc*35.3147#qb[:len(ts)]*35.3147\n",
    "#ts_test.to_csv(os.path.join(folder,'Lag_Operation_Output.csv'))\n",
    "\n",
    "start='Nov 5 1990'\n",
    "end='Nov 17 1990'\n",
    "    \n",
    "#plt.plot(sakw1_chps.loc[start:end].SAKW1*0.0283168,label='IN')\n",
    "plt.plot(upflow[0].loc[start:end,'flow_cfs']*0.0283168,label='IN')\n",
    "plt.plot(fortran_output.loc[start:end].Lagged,label='Lagged')\n",
    "plt.plot(fortran_output.loc[start:end].Attenuated,label='Attenuated')#,linestyle=':')\n",
    "plt.plot(chps_lagk.loc[start:end,'Lag_Tbl-K_Tbl']*0.0283168,linestyle=':',label='CHPS_Output')\n",
    "#plt.plot(sakw1_chps.loc[start:end].SAKW1R*0.0283168,label='CHPS_Output')\n",
    "#plt.plot(ts_test_lagged*0.0283168,label='Lagged')\n",
    "#plt.plot(ts_test.index,qc[:len(ts)],label='Attenuated')\n",
    "\n",
    "plt.xlabel('Timestep') \n",
    "plt.ylabel('Streamflow (cms)')\n",
    "\n",
    "plt.legend()\n",
    " \n",
    "plt.rcParams[\"figure.figsize\"] = (10,10)\n",
    "#ts_test['Lagged']=qb[:len(ts)]*35.3147\n",
    "#ts_test['Attenuated']=qc[:len(ts)]*35.3147\n",
    "#ts_test.to_csv(os.path.join(folder,'Lag_Operation_Output.csv'))"
   ]
  },
  {
   "cell_type": "code",
   "execution_count": 14,
   "id": "97f69a55",
   "metadata": {},
   "outputs": [
    {
     "data": {
      "text/plain": [
       "<AxesSubplot:>"
      ]
     },
     "execution_count": 14,
     "metadata": {},
     "output_type": "execute_result"
    },
    {
     "data": {
      "image/png": "[encoded data removed]",
      "text/plain": [
       "<Figure size 720x720 with 1 Axes>"
      ]
     },
     "metadata": {
      "needs_background": "light"
     },
     "output_type": "display_data"
    }
   ],
   "source": [
    "diff=fortran_output.Attenuated-chps_lagk.loc[:,'Lag_Tbl-K_Tbl']*0.0283168\n",
    "diff.plot()"
   ]
  },
  {
   "cell_type": "code",
   "execution_count": null,
   "id": "03f779e8",
   "metadata": {},
   "outputs": [],
   "source": [
    "ops_lagk_parm.loc[:,((ops_lagk_parm.columns.str.contains('LAG'))&(~ops_lagk_parm.columns.str.contains('_')))|(ops_lagk_parm.columns.str.contains('CONSTANT_LAG'))].max()"
   ]
  },
  {
   "cell_type": "code",
   "execution_count": null,
   "id": "243301ee",
   "metadata": {},
   "outputs": [],
   "source": [
    "ops_lagk_parm.loc[:,((ops_lagk_parm.columns.str.contains('K'))&(~ops_lagk_parm.columns.str.contains('_')))|(ops_lagk_parm.columns.str.contains('CONSTANT_K'))].max()"
   ]
  },
  {
   "cell_type": "code",
   "execution_count": null,
   "id": "862fd2b6",
   "metadata": {},
   "outputs": [],
   "source": [
    "ops_lagk_parm=pd.read_csv('LAGK_Parameters.csv',index_col='Id')\n",
    "lag=ops_lagk_parm.loc[:,(ops_lagk_parm.columns.str.contains('LAG'))&(~ops_lagk_parm.columns.str.contains('_'))]\n",
    "lag_q=ops_lagk_parm.loc[:,ops_lagk_parm.columns.str.contains('LAG_')&(~ops_lagk_parm.columns.str.contains('CONSTANT'))]\n",
    "\n",
    "k=ops_lagk_parm.loc[:,(ops_lagk_parm.columns.str.contains('K'))&(~ops_lagk_parm.columns.str.contains('_'))]\n",
    "k_q=ops_lagk_parm.loc[:,ops_lagk_parm.columns.str.contains('K_')&(~ops_lagk_parm.columns.str.contains('CONSTANT'))]"
   ]
  },
  {
   "cell_type": "code",
   "execution_count": null,
   "id": "bc3a2327",
   "metadata": {},
   "outputs": [],
   "source": [
    "if len(lag_df)>1 or len(k_df)>1:\n",
    "    print(True)"
   ]
  },
  {
   "cell_type": "code",
   "execution_count": null,
   "id": "8f05cb06",
   "metadata": {
    "scrolled": true
   },
   "outputs": [],
   "source": [
    "for lid in range(len(ops_lagk_parm)):\n",
    "\n",
    "    lag_df=pd.DataFrame({'Q':lag_q.loc[lag_q.index[lid]].values},index=lag.loc[lag.index[lid]].values).dropna()\n",
    "    k_df=pd.DataFrame({'Lag':k_q.loc[k_q.index[lid]].values},index=k.loc[k.index[lid]].values).dropna()\n",
    "\n",
    "    if len(lag_df)>1 or len(k_df)>1:\n",
    "\n",
    "        fig, (ax1, ax2) = plt.subplots(1, 2, sharex=True, dpi= 80, facecolor='w',figsize=(10, 10))\n",
    "\n",
    "        if len(lag_df)>1:\n",
    "            ax1.plot(lag_df)\n",
    "        if len(k_df)>1:\n",
    "            ax2.plot(k_df)\n",
    "\n",
    "        ax1.set_xlabel('Lag (hr)')\n",
    "        ax2.set_xlabel('k (hr)')\n",
    "        ax1.set_ylabel('Streamflow (Q)')\n",
    "        ax2.set_ylabel('Streamflow (Q)')\n",
    "\n",
    "        ax1.grid()\n",
    "        ax2.grid()\n",
    "\n",
    "        ax1.title.set_text('LAG-Q')\n",
    "        ax2.title.set_text('K-Q')\n",
    "\n",
    "        fig.suptitle(ops_lagk_parm.index[lid], fontsize=16)\n",
    "\n",
    "        #Set tight layout\n",
    "        fig.tight_layout\n",
    "\n",
    "        fig.savefig('legacy_lagk_tables\\\\'+ops_lagk_parm.index[lid]+'_tables.png')\n",
    "\n",
    "        plt.clf()\n",
    "        plt.close('all')  "
   ]
  },
  {
   "cell_type": "code",
   "execution_count": null,
   "id": "5a31ee5e",
   "metadata": {},
   "outputs": [],
   "source": [
    "range(len(ops_lagk_parm))"
   ]
  }
 ],
 "metadata": {
  "kernelspec": {
   "display_name": "Python 3 (ipykernel)",
   "language": "python",
   "name": "python3"
  },
  "language_info": {
   "codemirror_mode": {
    "name": "ipython",
    "version": 3
   },
   "file_extension": ".py",
   "mimetype": "text/x-python",
   "name": "python",
   "nbconvert_exporter": "python",
   "pygments_lexer": "ipython3",
   "version": "3.7.12"
  }
 },
 "nbformat": 4,
 "nbformat_minor": 5
}
