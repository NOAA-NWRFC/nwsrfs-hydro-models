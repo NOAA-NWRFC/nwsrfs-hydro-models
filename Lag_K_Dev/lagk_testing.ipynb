{
 "cells": [
  {
   "cell_type": "code",
   "execution_count": 1,
   "id": "committed-wallace",
   "metadata": {},
   "outputs": [],
   "source": [
    "%load_ext autoreload\n",
    "%autoreload 2\n",
    "\n",
    "import os, sys\n",
    "import pandas as pd\n",
    "import numpy as np\n",
    "import matplotlib.pyplot as plt\n",
    "from utilities.model import Model\n",
    "import nwsrfs_models.main as s\n",
    "#import lagk_f2py_old.model_lagk as lagk\n",
    "\n",
    "#from utilities.model import Model"
   ]
  },
  {
   "cell_type": "code",
   "execution_count": 2,
   "id": "elementary-zoning",
   "metadata": {},
   "outputs": [
    {
     "name": "stdout",
     "output_type": "stream",
     "text": [
      "Help on module nwsrfs_models.main in nwsrfs_models:\n",
      "\n",
      "NAME\n",
      "    nwsrfs_models.main\n",
      "\n",
      "DESCRIPTION\n",
      "    This module 'main' is auto-generated with f2py (version:2).\n",
      "    Functions:\n",
      "      lagk_out = lagk(ita,itb,meteng,lagtbl,ktbl,ico,iinfl,ioutfl,istor,qa,n_hrus=shape(lagtbl,1),sim_length=shape(qa,0))\n",
      "      tci = sacsnow(dt,year,month,day,hour,latitude,elev,area,uztwm,uzfwm,lztwm,lzfpm,lzfsm,adimp,uzk,lzpk,lzsk,zperc,rexp,pctim,pfree,riva,side,rserv,peadj,pxadj,peadj_m,scf,mfmax,mfmin,uadj,si,nmf,tipm,mbase,plwhc,daygm,adc_a,adc_b,adc_c,map_fa_pars,mat_fa_pars,pet_fa_pars,ptps_fa_pars,map_fa_limits,mat_fa_limits,pet_fa_limits,ptps_fa_limits,init,map,ptps,mat,n_hrus=len(latitude),sim_length=len(year))\n",
      "      tci,aet,uztwc,uzfwc,lztwc,lzfsc,lzfpc,adimc,swe = sacsnowstates(dt,year,month,day,hour,latitude,elev,area,uztwm,uzfwm,lztwm,lzfpm,lzfsm,adimp,uzk,lzpk,lzsk,zperc,rexp,pctim,pfree,riva,side,rserv,peadj,pxadj,peadj_m,scf,mfmax,mfmin,uadj,si,nmf,tipm,mbase,plwhc,daygm,adc_a,adc_b,adc_c,map_fa_pars,mat_fa_pars,pet_fa_pars,ptps_fa_pars,map_fa_limits,mat_fa_limits,pet_fa_limits,ptps_fa_limits,init,map,ptps,mat,pet,n_hrus=len(latitude),sim_length=len(year))\n",
      "      fintp7 = fintp7(value,table)\n",
      "      fka7(p,c,qb,qc,ndt=len(qb))\n",
      "      flag7(p,c,qa,qb,ndt=len(qa))\n",
      "      fop7 = fop7(x,y)\n",
      "      fprpc7(p,c,np=len(p),nc=len(c))\n",
      "      fserc7 = fserc7(l,q,table,n=shape(table,1))\n",
      "      fslag7 = fslag7(l,q,ly,table,n=shape(table,1))\n",
      "      initcommonblockspin(filename)\n",
      "      pin7(p,c,ita,itb,jlag,jk,meteng,lagtbl,ktbl,ico,iinfl,ioutfl,istor)\n",
      "      pina7(p,ip,c,ic,ibug,ier)\n",
      "      umemov(in,iout,num=shape(in,0))\n",
      "      umemst(ivalue,iarray,num)\n",
      "      pack19(ta,px,pcts,rsl,owe,osc,pgm,rm,twe,cover,cwe,caesc,ifut,idt,idn,imn,iyr,tprev,sxfall,ds,alat,scf,mfmax,mfmin,uadj,si,nmf,tipm,mbase,pxtemp,plwhc,daygm,adc,pa,lmfv,smfv,laec,nptae,ae,ndt=len(px))\n",
      "      adjc19(twe,si,adc)\n",
      "      raim,sneqv,snow,snowh = exsnow19(idts,idt,ida,imn,iyr,pcp,pcts,tmp,alat,scf,mfmax1,mfmin1,uadj1,si,nmf1,tipm1,mbase,pxtemp,plwhc,daygm,elev1,pa,adc,cs,tprev)\n",
      "      sndepth(we,sliq,dfall,sgslos,srfrz,ta,dta,idt,sh,ds,tsnow)\n",
      "      aeco19(cover,twe,si,adc)\n",
      "      updt19(owe,osc,twe,cover,iupwe,iupsc,wetol,sctol,si,adc)\n",
      "      snew(t,p,hcn,dhn)\n",
      "      aesc19(we,liqw,accmax,sb,sbaesc,sbws,si,adc,aeadj,aesc)\n",
      "      rout19(it,excess,we,aesc,storge,nexlag,exlag,packro)\n",
      "      zero19()\n",
      "      snowpack(w,dts,hc,ds,sliq,dfall,srfrz,tsnow)\n",
      "      qb = duamel(q,un1,ut,dt,n,mm,k,ntau)\n",
      "      gf = gf(y)\n",
      "      sac1(dt,pxv,ep,tci,roimp,sdro,ssur,sif,bfs,bfp,tet,ifrze,ta,lwe,we,isc,aesc,uztwm,uzfwm,uzk,pctim,adimp,riva,zperc,rexp,lztwm,lzfsm,lzfpm,lzsk,lzpk,pfree,side,rserv,uztwc,uzfwc,lztwc,lzfsc,lzfpc,adimc)\n",
      "      fgfr1(lzdefr,fr,fi)\n",
      "      frost1(px,sur,dir,ta,lwe,we,isc,aesc,dt)\n",
      "      snowt(sh,ds,we,sliq,ta,dta,tsnow,dhc)\n",
      "      exsac(nsold,dtm,pcp,tmp,etp,uztwm,uzfwm,uzk,pctim,adimp,riva,zperc,rexp,lztwm,lzfsm,lzfpm,lzsk,lzpk,pfree,side,rserv,uztwc,uzfwc,lztwc,lzfsc,lzfpc,adimc,qs,qg,q,eta)\n",
      "      melt19(idn,imn,alat,ta,melt,mfmax,mfmin,mbase,tindex,tipm,cnhs,nmf,lmfv,smfv)\n",
      "    COMMON blocks:\n",
      "      /ionum/ in,ipr,ipu\n",
      "      /fcpuck/ icput,icpuon,incpu\n",
      "      /fctime/ idarun,ihrrun,ldarun,lhrrun,ldacpd,lhrcpd,now(5),local,noutz,noutds,nlstz,ida,ihr,lda,lhr,idadat\n",
      "      /reslag/ igage,tlag(2)\n",
      "      /fatlgk/ iatl,c1,c2\n",
      "      /fres7/ mennst,lagdt,ncd7,nlagk\n",
      "      /fsnwup/ iupwe,iupsc\n",
      "      /snco19/ we,neghs,liqw,tindex,accmax,sb,sbaesc,sbws,storge,aeadj,nexlag,exlag(7),sndpt,sntmp\n",
      "      /sums19/ spx,ssfall,srm,smelt,smeltr,srobg,dsfall,drain,dqnet,drsl,ndrsp\n",
      "      /snup19/ mfc,sfallx,windc,sctol,wetol,snof,uadjc\n",
      "      /fsmco1/ fgco(6),rsum(7),ppe,psc,pta,pwe\n",
      "      /fsums1/ srot,simpvt,srodt,srost,sintft,sgwfp,sgwfs,srecht,sett,se1,se3,se4,se5\n",
      "      /sacstat1/ uztwc,uzfwc,lztwc,lzfsc,lzfpc,adimc\n",
      "      /fpmfg1/ fgpm(10)\n",
      "      /sacparm1/ uztwm,uzfwm,uzk,pctim,adimp,riva,zperc,rexp,lztwm,lzfsm,lzfpm,lzsk,lzpk,pfree,side,rserv\n",
      "    Fortran 90/95 modules:\n",
      "      types --- dp,hp  sorting --- sortnums(),sortinums(),sortvecs(),sortnumnumpairs(),sortinumcnumpairs(),sortnumvecpairs(),sortinumvecpairs(),sortnumcvecpairs(),sortnummatpairs(),sortinummatpairs(),iargsort(),rargsort(),rrev(),irev(),stop_error()  stats --- median(),norm_pdf()  utilities --- forcing_adjust_map_pet_ptps(),forcing_adjust_mat(),monthly_climo_mean(),monthly_climo_sum(),sfc_pressure(),julian_day().\n",
      "\n",
      "DATA\n",
      "    adjc19 = <fortran object>\n",
      "    aeco19 = <fortran object>\n",
      "    aesc19 = <fortran object>\n",
      "    duamel = <fortran object>\n",
      "    exsac = <fortran object>\n",
      "    exsnow19 = <fortran object>\n",
      "    fatlgk = <fortran object>\n",
      "    fcpuck = <fortran object>\n",
      "    fctime = <fortran object>\n",
      "    fgfr1 = <fortran object>\n",
      "    fintp7 = <fortran fintp7>\n",
      "    fka7 = <fortran object>\n",
      "    flag7 = <fortran object>\n",
      "    fop7 = <fortran fop7>\n",
      "    fpmfg1 = <fortran object>\n",
      "    fprpc7 = <fortran object>\n",
      "    fres7 = <fortran object>\n",
      "    frost1 = <fortran object>\n",
      "    fserc7 = <fortran fserc7>\n",
      "    fslag7 = <fortran fslag7>\n",
      "    fsmco1 = <fortran object>\n",
      "    fsnwup = <fortran object>\n",
      "    fsums1 = <fortran object>\n",
      "    gf = <fortran gf>\n",
      "    initcommonblockspin = <fortran object>\n",
      "    ionum = <fortran object>\n",
      "    lagk = <fortran object>\n",
      "    melt19 = <fortran object>\n",
      "    pack19 = <fortran object>\n",
      "    pin7 = <fortran object>\n",
      "    pina7 = <fortran object>\n",
      "    reslag = <fortran object>\n",
      "    rout19 = <fortran object>\n",
      "    sac1 = <fortran object>\n",
      "    sacparm1 = <fortran object>\n",
      "    sacsnow = <fortran object>\n",
      "    sacsnowstates = <fortran object>\n",
      "    sacstat1 = <fortran object>\n",
      "    snco19 = <fortran object>\n",
      "    sndepth = <fortran object>\n",
      "    snew = <fortran object>\n",
      "    snowpack = <fortran object>\n",
      "    snowt = <fortran object>\n",
      "    snup19 = <fortran object>\n",
      "    sorting = <fortran object>\n",
      "    stats = <fortran object>\n",
      "    sums19 = <fortran object>\n",
      "    types = <fortran object>\n",
      "    umemov = <fortran object>\n",
      "    umemst = <fortran object>\n",
      "    updt19 = <fortran object>\n",
      "    utilities = <fortran object>\n",
      "    zero19 = <fortran object>\n",
      "\n",
      "VERSION\n",
      "    b'$Revision: $'\n",
      "\n",
      "FILE\n",
      "    c:\\users\\geoffrey.walters\\documents\\aorc\\autocalb\\repo\\rfc-hydro-models\\py-rfchydromodels\\nwsrfs_models\\main.cp36-win_amd64.pyd\n",
      "\n",
      "\n"
     ]
    }
   ],
   "source": [
    "help(s)"
   ]
  },
  {
   "cell_type": "code",
   "execution_count": 2,
   "id": "martial-flooring",
   "metadata": {},
   "outputs": [],
   "source": [
    "folder='C:\\\\Users\\\\geoffrey.walters\\\\Documents\\\\AORC\\\\AutoCalb\\\\Repo\\\\rfc-hydro-models\\\\py-rfchydromodels'"
   ]
  },
  {
   "cell_type": "code",
   "execution_count": 91,
   "id": "romance-image",
   "metadata": {},
   "outputs": [
    {
     "ename": "NameError",
     "evalue": "name 'folder' is not defined",
     "output_type": "error",
     "traceback": [
      "\u001b[1;31m---------------------------------------------------------------------------\u001b[0m",
      "\u001b[1;31mNameError\u001b[0m                                 Traceback (most recent call last)",
      "\u001b[1;32m<ipython-input-91-a2059e1d7968>\u001b[0m in \u001b[0;36m<module>\u001b[1;34m\u001b[0m\n\u001b[1;32m----> 1\u001b[1;33m \u001b[0mconw1_chps\u001b[0m\u001b[1;33m=\u001b[0m\u001b[0mpd\u001b[0m\u001b[1;33m.\u001b[0m\u001b[0mread_excel\u001b[0m\u001b[1;33m(\u001b[0m\u001b[0mos\u001b[0m\u001b[1;33m.\u001b[0m\u001b[0mpath\u001b[0m\u001b[1;33m.\u001b[0m\u001b[0mjoin\u001b[0m\u001b[1;33m(\u001b[0m\u001b[0mfolder\u001b[0m\u001b[1;33m,\u001b[0m\u001b[1;34m'basins'\u001b[0m\u001b[1;33m,\u001b[0m\u001b[1;34m'Lagk_Testing'\u001b[0m\u001b[1;33m,\u001b[0m\u001b[1;34m'CONW1R_Lagk_Check.xlsx'\u001b[0m\u001b[1;33m)\u001b[0m\u001b[1;33m,\u001b[0m\u001b[1;34m'Flows'\u001b[0m\u001b[1;33m,\u001b[0m\u001b[0mindex_col\u001b[0m\u001b[1;33m=\u001b[0m\u001b[1;34m'Date_Time'\u001b[0m\u001b[1;33m,\u001b[0m\u001b[0mparse_dates\u001b[0m\u001b[1;33m=\u001b[0m\u001b[1;32mTrue\u001b[0m\u001b[1;33m)\u001b[0m\u001b[1;33m\u001b[0m\u001b[1;33m\u001b[0m\u001b[0m\n\u001b[0m\u001b[0;32m      2\u001b[0m \u001b[0mconw1\u001b[0m\u001b[1;33m=\u001b[0m\u001b[0mconw1_chps\u001b[0m\u001b[1;33m.\u001b[0m\u001b[0mCONW1\u001b[0m\u001b[1;33m.\u001b[0m\u001b[0mastype\u001b[0m\u001b[1;33m(\u001b[0m\u001b[1;34m'f4'\u001b[0m\u001b[1;33m)\u001b[0m\u001b[1;33m.\u001b[0m\u001b[0mto_numpy\u001b[0m\u001b[1;33m(\u001b[0m\u001b[1;33m)\u001b[0m\u001b[1;33m\u001b[0m\u001b[1;33m\u001b[0m\u001b[0m\n\u001b[0;32m      3\u001b[0m \u001b[1;33m\u001b[0m\u001b[0m\n\u001b[0;32m      4\u001b[0m \u001b[0msakw1_chps\u001b[0m\u001b[1;33m=\u001b[0m\u001b[0mpd\u001b[0m\u001b[1;33m.\u001b[0m\u001b[0mread_excel\u001b[0m\u001b[1;33m(\u001b[0m\u001b[0mos\u001b[0m\u001b[1;33m.\u001b[0m\u001b[0mpath\u001b[0m\u001b[1;33m.\u001b[0m\u001b[0mjoin\u001b[0m\u001b[1;33m(\u001b[0m\u001b[0mfolder\u001b[0m\u001b[1;33m,\u001b[0m\u001b[1;34m'basins'\u001b[0m\u001b[1;33m,\u001b[0m\u001b[1;34m'Lagk_Testing'\u001b[0m\u001b[1;33m,\u001b[0m\u001b[1;34m'SAKW1R_Lagk_Check.xlsx'\u001b[0m\u001b[1;33m)\u001b[0m\u001b[1;33m,\u001b[0m\u001b[1;34m'Flows'\u001b[0m\u001b[1;33m,\u001b[0m\u001b[0mindex_col\u001b[0m\u001b[1;33m=\u001b[0m\u001b[1;34m'Date_Time'\u001b[0m\u001b[1;33m,\u001b[0m\u001b[0mparse_dates\u001b[0m\u001b[1;33m=\u001b[0m\u001b[1;32mTrue\u001b[0m\u001b[1;33m)\u001b[0m\u001b[1;33m\u001b[0m\u001b[1;33m\u001b[0m\u001b[0m\n\u001b[0;32m      5\u001b[0m \u001b[0msakw1\u001b[0m\u001b[1;33m=\u001b[0m\u001b[0msakw1_chps\u001b[0m\u001b[1;33m.\u001b[0m\u001b[0mSAKW1\u001b[0m\u001b[1;33m.\u001b[0m\u001b[0mastype\u001b[0m\u001b[1;33m(\u001b[0m\u001b[1;34m'f4'\u001b[0m\u001b[1;33m)\u001b[0m\u001b[1;33m.\u001b[0m\u001b[0mto_numpy\u001b[0m\u001b[1;33m(\u001b[0m\u001b[1;33m)\u001b[0m\u001b[1;33m\u001b[0m\u001b[1;33m\u001b[0m\u001b[0m\n",
      "\u001b[1;31mNameError\u001b[0m: name 'folder' is not defined"
     ]
    }
   ],
   "source": [
    "conw1_chps=pd.read_excel(os.path.join(folder,'basins','Lagk_Testing','CONW1R_Lagk_Check.xlsx'),'Flows',index_col='Date_Time',parse_dates=True)\n",
    "conw1=conw1_chps.CONW1.astype('f4').to_numpy()\n",
    "\n",
    "sakw1_chps=pd.read_excel(os.path.join(folder,'basins','Lagk_Testing','SAKW1R_Lagk_Check.xlsx'),'Flows',index_col='Date_Time',parse_dates=True)\n",
    "sakw1=sakw1_chps.SAKW1.astype('f4').to_numpy()"
   ]
  },
  {
   "cell_type": "code",
   "execution_count": 3,
   "id": "focused-travel",
   "metadata": {},
   "outputs": [],
   "source": [
    "pars_1zone = pd.read_csv(os.path.join(folder,'basins','TLMO3-1zone','results_01','pars_optimal.csv'))\n",
    "pars_2zone = pd.read_csv(os.path.join(folder,'basins','TLMO3-2zone','results_01','pars_optimal.csv'))\n",
    "pars_2zone_2route = pd.read_csv(os.path.join(folder,'basins','TLMO3-2zone-2route','results_01','pars_optimal.csv'))\n",
    "\n",
    "forcings_1zone = [pd.read_csv(os.path.join(folder,'basins','TLMO3-1zone','forcing_TLMO3-1.csv'))]\n",
    "forcings_2zone = [pd.read_csv(os.path.join(folder,'basins','TLMO3-2zone','forcing_TLMO3-1.csv')),\n",
    "                  pd.read_csv(os.path.join(folder,'basins','TLMO3-2zone','forcing_TLMO3-2.csv'))]\n",
    "forcings_2zone_2route = [pd.read_csv(os.path.join(folder,'basins','TLMO3-2zone-2route','forcing_TLMO3-1.csv')),\n",
    "                  pd.read_csv(os.path.join(folder,'basins','TLMO3-2zone-2route','forcing_TLMO3-2.csv'))]\n",
    "\n",
    "upflow_2zone_2route=[pd.read_csv(os.path.join(folder,'basins','TLMO3-2zone-2route','upflow_CONW1.csv')),\n",
    "                  pd.read_csv(os.path.join(folder,'basins','TLMO3-2zone-2route','upflow_SAKW1.csv'))]\n",
    "\n",
    "flow = pd.read_csv(os.path.join(folder,'basins','TLMO3-1zone','results_01','optimal_6h.csv'))\n",
    "states = pd.read_csv(os.path.join(folder,'basins','TLMO3-2zone','results_01','optimal_states_6h.csv'))\n",
    "\n",
    "flow.rename(columns={'sim_flow_cfs':'sim_flow_cfs_r'},inplace=True)\n",
    "\n",
    "forcings_1zone[0].index = pd.to_datetime(forcings_1zone[0][['year', 'month', 'day', 'hour']])\n",
    "for f in forcings_2zone:\n",
    "    f.index = pd.to_datetime(f[['year', 'month', 'day', 'hour']])\n",
    "for f in forcings_2zone_2route:\n",
    "    f.index = pd.to_datetime(f[['year', 'month', 'day', 'hour']])\n",
    "for f in upflow_2zone_2route:\n",
    "    f.index = pd.to_datetime(f[['year', 'month', 'day', 'hour']])\n",
    "flow.index = pd.to_datetime(flow[['year', 'month', 'day', 'hour']])\n",
    "flow['datetime'] = flow.index\n",
    "\n",
    "#basin = 'TLMO3'\n",
    "\n",
    "#fa_limits_basin = pd.read_csv(os.path.join(folder,'forcing-adj-limits_climo.csv'))\n",
    "#fa_limits_basin = fa_limits_basin[(fa_limits_basin['basin']==basin) &\n",
    "#                      (fa_limits_basin['zone']==basin+'-1')].copy()"
   ]
  },
  {
   "cell_type": "code",
   "execution_count": 4,
   "id": "tested-documentation",
   "metadata": {},
   "outputs": [
    {
     "name": "stdout",
     "output_type": "stream",
     "text": [
      "Help on module nwsrfs_models.main in nwsrfs_models:\n",
      "\n",
      "NAME\n",
      "    nwsrfs_models.main\n",
      "\n",
      "DESCRIPTION\n",
      "    This module 'main' is auto-generated with f2py (version:2).\n",
      "    Functions:\n",
      "      lagk_out = lagk(ita,itb,meteng,lagtbl_in,ktbl_in,ico_in,iinfl_in,ioutfl_in,istor_in,qa_in,n_hrus=shape(lagtbl_in,1),sim_length=shape(qa_in,0))\n",
      "      tci = sacsnow(dt,year,month,day,hour,latitude,elev,area,uztwm,uzfwm,lztwm,lzfpm,lzfsm,adimp,uzk,lzpk,lzsk,zperc,rexp,pctim,pfree,riva,side,rserv,peadj,pxadj,peadj_m,scf,mfmax,mfmin,uadj,si,nmf,tipm,mbase,plwhc,daygm,adc_a,adc_b,adc_c,map_fa_pars,mat_fa_pars,pet_fa_pars,ptps_fa_pars,map_fa_limits,mat_fa_limits,pet_fa_limits,ptps_fa_limits,init,map,ptps,mat,n_hrus=len(latitude),sim_length=len(year))\n",
      "      tci,aet,uztwc,uzfwc,lztwc,lzfsc,lzfpc,adimc,swe = sacsnowstates(dt,year,month,day,hour,latitude,elev,area,uztwm,uzfwm,lztwm,lzfpm,lzfsm,adimp,uzk,lzpk,lzsk,zperc,rexp,pctim,pfree,riva,side,rserv,peadj,pxadj,peadj_m,scf,mfmax,mfmin,uadj,si,nmf,tipm,mbase,plwhc,daygm,adc_a,adc_b,adc_c,map_fa_pars,mat_fa_pars,pet_fa_pars,ptps_fa_pars,map_fa_limits,mat_fa_limits,pet_fa_limits,ptps_fa_limits,init,map,ptps,mat,pet,n_hrus=len(latitude),sim_length=len(year))\n",
      "      fintp7 = fintp7(value,table)\n",
      "      fka7(p,c,qb,qc,ndt=len(qb))\n",
      "      flag7(p,c,qa,qb,ndt=len(qa))\n",
      "      fop7 = fop7(x,y)\n",
      "      fprpc7(p,c,np=len(p),nc=len(c))\n",
      "      fserc7 = fserc7(l,q,table,n=shape(table,1))\n",
      "      fslag7 = fslag7(l,q,ly,table,n=shape(table,1))\n",
      "      initcommonblockspin(filename)\n",
      "      pin7(p,c,ita,itb,jlag,jk,meteng,lagtbl,ktbl,ico,iinfl,ioutfl,istor)\n",
      "      pina7(p,ip,c,ic,ibug,ier)\n",
      "      umemov(in,iout,num=shape(in,0))\n",
      "      umemst(ivalue,iarray,num)\n",
      "      pack19(ta,px,pcts,rsl,owe,osc,pgm,rm,twe,cover,cwe,caesc,ifut,idt,idn,imn,iyr,tprev,sxfall,ds,alat,scf,mfmax,mfmin,uadj,si,nmf,tipm,mbase,pxtemp,plwhc,daygm,adc,pa,lmfv,smfv,laec,nptae,ae,ndt=len(px))\n",
      "      adjc19(twe,si,adc)\n",
      "      raim,sneqv,snow,snowh = exsnow19(idts,idt,ida,imn,iyr,pcp,pcts,tmp,alat,scf,mfmax1,mfmin1,uadj1,si,nmf1,tipm1,mbase,pxtemp,plwhc,daygm,elev1,pa,adc,cs,tprev)\n",
      "      sndepth(we,sliq,dfall,sgslos,srfrz,ta,dta,idt,sh,ds,tsnow)\n",
      "      aeco19(cover,twe,si,adc)\n",
      "      updt19(owe,osc,twe,cover,iupwe,iupsc,wetol,sctol,si,adc)\n",
      "      snew(t,p,hcn,dhn)\n",
      "      aesc19(we,liqw,accmax,sb,sbaesc,sbws,si,adc,aeadj,aesc)\n",
      "      rout19(it,excess,we,aesc,storge,nexlag,exlag,packro)\n",
      "      zero19()\n",
      "      snowpack(w,dts,hc,ds,sliq,dfall,srfrz,tsnow)\n",
      "      qb = duamel(q,un1,ut,dt,n,mm,k,ntau)\n",
      "      gf = gf(y)\n",
      "      sac1(dt,pxv,ep,tci,roimp,sdro,ssur,sif,bfs,bfp,tet,ifrze,ta,lwe,we,isc,aesc,uztwm,uzfwm,uzk,pctim,adimp,riva,zperc,rexp,lztwm,lzfsm,lzfpm,lzsk,lzpk,pfree,side,rserv,uztwc,uzfwc,lztwc,lzfsc,lzfpc,adimc)\n",
      "      fgfr1(lzdefr,fr,fi)\n",
      "      frost1(px,sur,dir,ta,lwe,we,isc,aesc,dt)\n",
      "      snowt(sh,ds,we,sliq,ta,dta,tsnow,dhc)\n",
      "      exsac(nsold,dtm,pcp,tmp,etp,uztwm,uzfwm,uzk,pctim,adimp,riva,zperc,rexp,lztwm,lzfsm,lzfpm,lzsk,lzpk,pfree,side,rserv,uztwc,uzfwc,lztwc,lzfsc,lzfpc,adimc,qs,qg,q,eta)\n",
      "      melt19(idn,imn,alat,ta,melt,mfmax,mfmin,mbase,tindex,tipm,cnhs,nmf,lmfv,smfv)\n",
      "    COMMON blocks:\n",
      "      /ionum/ in,ipr,ipu\n",
      "      /fcpuck/ icput,icpuon,incpu\n",
      "      /fctime/ idarun,ihrrun,ldarun,lhrrun,ldacpd,lhrcpd,now(5),local,noutz,noutds,nlstz,ida,ihr,lda,lhr,idadat\n",
      "      /reslag/ igage,tlag(2)\n",
      "      /fatlgk/ iatl,c1,c2\n",
      "      /fres7/ mennst,lagdt,ncd7,nlagk\n",
      "      /fsnwup/ iupwe,iupsc\n",
      "      /snco19/ we,neghs,liqw,tindex,accmax,sb,sbaesc,sbws,storge,aeadj,nexlag,exlag(7),sndpt,sntmp\n",
      "      /sums19/ spx,ssfall,srm,smelt,smeltr,srobg,dsfall,drain,dqnet,drsl,ndrsp\n",
      "      /snup19/ mfc,sfallx,windc,sctol,wetol,snof,uadjc\n",
      "      /fsmco1/ fgco(6),rsum(7),ppe,psc,pta,pwe\n",
      "      /fsums1/ srot,simpvt,srodt,srost,sintft,sgwfp,sgwfs,srecht,sett,se1,se3,se4,se5\n",
      "      /sacstat1/ uztwc,uzfwc,lztwc,lzfsc,lzfpc,adimc\n",
      "      /fpmfg1/ fgpm(10)\n",
      "      /sacparm1/ uztwm,uzfwm,uzk,pctim,adimp,riva,zperc,rexp,lztwm,lzfsm,lzfpm,lzsk,lzpk,pfree,side,rserv\n",
      "    Fortran 90/95 modules:\n",
      "      types --- dp,hp  sorting --- sortnums(),sortinums(),sortvecs(),sortnumnumpairs(),sortinumcnumpairs(),sortnumvecpairs(),sortinumvecpairs(),sortnumcvecpairs(),sortnummatpairs(),sortinummatpairs(),iargsort(),rargsort(),rrev(),irev(),stop_error()  stats --- median(),norm_pdf()  utilities --- forcing_adjust_map_pet_ptps(),forcing_adjust_mat(),monthly_climo_mean(),monthly_climo_sum(),sfc_pressure(),julian_day().\n",
      "\n",
      "DATA\n",
      "    adjc19 = <fortran object>\n",
      "    aeco19 = <fortran object>\n",
      "    aesc19 = <fortran object>\n",
      "    duamel = <fortran object>\n",
      "    exsac = <fortran object>\n",
      "    exsnow19 = <fortran object>\n",
      "    fatlgk = <fortran object>\n",
      "    fcpuck = <fortran object>\n",
      "    fctime = <fortran object>\n",
      "    fgfr1 = <fortran object>\n",
      "    fintp7 = <fortran fintp7>\n",
      "    fka7 = <fortran object>\n",
      "    flag7 = <fortran object>\n",
      "    fop7 = <fortran fop7>\n",
      "    fpmfg1 = <fortran object>\n",
      "    fprpc7 = <fortran object>\n",
      "    fres7 = <fortran object>\n",
      "    frost1 = <fortran object>\n",
      "    fserc7 = <fortran fserc7>\n",
      "    fslag7 = <fortran fslag7>\n",
      "    fsmco1 = <fortran object>\n",
      "    fsnwup = <fortran object>\n",
      "    fsums1 = <fortran object>\n",
      "    gf = <fortran gf>\n",
      "    initcommonblockspin = <fortran object>\n",
      "    ionum = <fortran object>\n",
      "    lagk = <fortran object>\n",
      "    melt19 = <fortran object>\n",
      "    pack19 = <fortran object>\n",
      "    pin7 = <fortran object>\n",
      "    pina7 = <fortran object>\n",
      "    reslag = <fortran object>\n",
      "    rout19 = <fortran object>\n",
      "    sac1 = <fortran object>\n",
      "    sacparm1 = <fortran object>\n",
      "    sacsnow = <fortran object>\n",
      "    sacsnowstates = <fortran object>\n",
      "    sacstat1 = <fortran object>\n",
      "    snco19 = <fortran object>\n",
      "    sndepth = <fortran object>\n",
      "    snew = <fortran object>\n",
      "    snowpack = <fortran object>\n",
      "    snowt = <fortran object>\n",
      "    snup19 = <fortran object>\n",
      "    sorting = <fortran object>\n",
      "    stats = <fortran object>\n",
      "    sums19 = <fortran object>\n",
      "    types = <fortran object>\n",
      "    umemov = <fortran object>\n",
      "    umemst = <fortran object>\n",
      "    updt19 = <fortran object>\n",
      "    utilities = <fortran object>\n",
      "    zero19 = <fortran object>\n",
      "\n",
      "VERSION\n",
      "    b'$Revision: $'\n",
      "\n",
      "FILE\n",
      "    c:\\users\\geoffrey.walters\\documents\\aorc\\autocalb\\repo\\rfc-hydro-models\\py-rfchydromodels\\nwsrfs_models\\main.cp36-win_amd64.pyd\n",
      "\n",
      "\n"
     ]
    }
   ],
   "source": [
    "help(s)"
   ]
  },
  {
   "cell_type": "code",
   "execution_count": 9,
   "id": "operating-hughes",
   "metadata": {},
   "outputs": [
    {
     "data": {
      "text/plain": [
       "array([5779.2188, 5779.2188, 5779.2188, ..., 4285.7905, 4500.8965,\n",
       "       4439.4565])"
      ]
     },
     "execution_count": 9,
     "metadata": {},
     "output_type": "execute_result"
    }
   ],
   "source": [
    "m_2zone_2route.uptribs[:,1]"
   ]
  },
  {
   "cell_type": "code",
   "execution_count": 5,
   "id": "genetic-birth",
   "metadata": {},
   "outputs": [
    {
     "data": {
      "text/plain": [
       "<matplotlib.legend.Legend at 0x2780a2577f0>"
      ]
     },
     "execution_count": 5,
     "metadata": {},
     "output_type": "execute_result"
    },
    {
     "data": {
      "image/png": "[encoded data removed]",
      "text/plain": [
       "<Figure size 432x288 with 1 Axes>"
      ]
     },
     "metadata": {
      "needs_background": "light"
     },
     "output_type": "display_data"
    }
   ],
   "source": [
    "wrapper=pd.DataFrame(route,index=upflow_2zone_2route[1].index)\n",
    "sa=pd.DataFrame(m_2zone_2route.uptribs[:,1],index=upflow_2zone_2route[0].index)\n",
    "\n",
    "d_start='11/5/1984'\n",
    "d_end='2/15/1985'\n",
    "\n",
    "plt.plot(wrapper.loc[d_start:d_end],label='down')\n",
    "plt.plot(sa.loc[d_start:d_end],label='up')\n",
    "plt.legend()"
   ]
  },
  {
   "cell_type": "code",
   "execution_count": 4,
   "id": "architectural-worry",
   "metadata": {},
   "outputs": [],
   "source": [
    "m_2zone_2route = Model(forcings_2zone_2route,pars_2zone_2route,upflow_2zone_2route,flow)\n",
    "route=m_2zone_2route.lagk_run(1)"
   ]
  },
  {
   "cell_type": "code",
   "execution_count": 22,
   "id": "according-brief",
   "metadata": {},
   "outputs": [
    {
     "data": {
      "text/plain": [
       "[<matplotlib.lines.Line2D at 0x1d264ad1198>,\n",
       " <matplotlib.lines.Line2D at 0x1d5fb085f28>]"
      ]
     },
     "execution_count": 22,
     "metadata": {},
     "output_type": "execute_result"
    },
    {
     "data": {
      "image/png": "[encoded data removed]",
      "text/plain": [
       "<Figure size 432x288 with 1 Axes>"
      ]
     },
     "metadata": {
      "needs_background": "light"
     },
     "output_type": "display_data"
    }
   ],
   "source": [
    "m_2zone_2route = Model(forcings_2zone_2route,pars_2zone_2route,upflow_2zone_2route,flow)\n",
    "par=m_2zone_2route.p\n",
    "z=[0,1]\n",
    "\n",
    "t=s.lagk(m_2zone_2route.dt_hours,m_2zone_2route.dt_hours,'METR',par['lagq'][:,z],\n",
    "                    par['kq'][:,z], par['init_co'][z],par['init_if'][z],\n",
    "                    par['init_of'][z],par['init_stor'][z],\n",
    "                    m_2zone_2route.uptribs[:,z]*0.0283168)\n",
    "\n",
    "\n",
    "\n",
    "plt.plot(pd.DataFrame(t,index=upflow_2zone_2route[0].index))\n",
    "#k_start=int(t[17])\n",
    "#k_len=int(t[k_start-1])\n",
    "#pina7_len=int(t[k_start+2*k_len])\n",
    "#p_end=k_start+2*(k_len+pina7_len)+1\n",
    "#t=t[:p_end]\n",
    "#t"
   ]
  },
  {
   "cell_type": "code",
   "execution_count": 9,
   "id": "ready-mineral",
   "metadata": {},
   "outputs": [],
   "source": [
    "m_2zone_2route = Model(forcings_2zone_2route,pars_2zone_2route,upflow_2zone_2route,flow)\n",
    "par=m_2zone_2route.p\n",
    "z=0\n",
    "\n",
    "p, c = lagk.pin7(m_2zone_2route.dt_hours,m_2zone_2route.dt_hours,par['n_lagq'][z],par['n_kq'][z],\n",
    "        'METR',par['lagq'][:,z],par['kq'][:,z],par['init_co'][z],par['init_if'][z],par['init_of'][z],\n",
    "        par['init_stor'][z])\n",
    "\n",
    "\n",
    "c_copy=c.copy()\n",
    "qb=lagk.flag7(p,c_copy,m_2zone_2route.uptribs[:,z]*0.0283168)\n",
    "qc=lagk.fka7(p,c_copy,qb)\n",
    "\n",
    "#c_copy=c.copy()\n",
    "#qb=s.flag7(p,c_copy,sakw1*0.0283168)\n",
    "#k_start=int(p[17])\n",
    "#k_len=int(p[k_start-1])\n",
    "#pina7_len=int(p[k_start+2*k_len])\n",
    "#p_end=k_start+2*(k_len+pina7_len)+1\n",
    "#p=p[:p_end]\n",
    "#p"
   ]
  },
  {
   "cell_type": "code",
   "execution_count": 19,
   "id": "sublime-klein",
   "metadata": {},
   "outputs": [
    {
     "data": {
      "text/plain": [
       "[<matplotlib.lines.Line2D at 0x1d5fafff2b0>]"
      ]
     },
     "execution_count": 19,
     "metadata": {},
     "output_type": "execute_result"
    },
    {
     "data": {
      "image/png": "[encoded data removed]",
      "text/plain": [
       "<Figure size 432x288 with 1 Axes>"
      ]
     },
     "metadata": {
      "needs_background": "light"
     },
     "output_type": "display_data"
    }
   ],
   "source": [
    "wrapper=pd.DataFrame(t,index=upflow_2zone_2route[0].index)\n",
    "sa=pd.DataFrame(qc,index=upflow_2zone_2route[0].index)\n",
    "\n",
    "d_start='11/5/1984'\n",
    "d_end='2/15/1985'\n",
    "\n",
    "plt.plot(wrapper.loc[d_start:d_end])\n",
    "plt.plot(sa.loc[d_start:d_end])"
   ]
  },
  {
   "cell_type": "code",
   "execution_count": 14,
   "id": "buried-practice",
   "metadata": {},
   "outputs": [
    {
     "data": {
      "text/plain": [
       "0.0"
      ]
     },
     "execution_count": 14,
     "metadata": {},
     "output_type": "execute_result"
    }
   ],
   "source": [
    "np.max(np.squeeze(t)-p)"
   ]
  },
  {
   "cell_type": "code",
   "execution_count": 22,
   "id": "higher-feeding",
   "metadata": {},
   "outputs": [],
   "source": [
    "m_2zone_2route = Model(forcings_2zone_2route,pars_2zone_2route,upflow_2zone_2route,flow)"
   ]
  },
  {
   "cell_type": "code",
   "execution_count": 7,
   "id": "floppy-automation",
   "metadata": {},
   "outputs": [
    {
     "ename": "TypeError",
     "evalue": "Required argument 'qb' (pos 4) not found",
     "output_type": "error",
     "traceback": [
      "\u001b[1;31m---------------------------------------------------------------------------\u001b[0m",
      "\u001b[1;31mTypeError\u001b[0m                                 Traceback (most recent call last)",
      "\u001b[1;32m<ipython-input-7-bb4accb36a49>\u001b[0m in \u001b[0;36m<module>\u001b[1;34m\u001b[0m\n\u001b[1;32m----> 1\u001b[1;33m \u001b[0mm_2zone_2route\u001b[0m\u001b[1;33m.\u001b[0m\u001b[0mlagk_run\u001b[0m\u001b[1;33m(\u001b[0m\u001b[1;33m)\u001b[0m\u001b[1;33m\u001b[0m\u001b[1;33m\u001b[0m\u001b[0m\n\u001b[0m",
      "\u001b[1;32m~\\Documents\\AORC\\AutoCalb\\Repo\\rfc-hydro-models\\py-rfchydromodels\\utilities\\model.py\u001b[0m in \u001b[0;36mlagk_run\u001b[1;34m(self, n)\u001b[0m\n\u001b[0;32m    131\u001b[0m \u001b[1;33m\u001b[0m\u001b[0m\n\u001b[0;32m    132\u001b[0m             \u001b[0mc_copy\u001b[0m\u001b[1;33m=\u001b[0m\u001b[0mc\u001b[0m\u001b[1;33m.\u001b[0m\u001b[0mcopy\u001b[0m\u001b[1;33m(\u001b[0m\u001b[1;33m)\u001b[0m\u001b[1;33m\u001b[0m\u001b[1;33m\u001b[0m\u001b[0m\n\u001b[1;32m--> 133\u001b[1;33m             \u001b[0mqb\u001b[0m\u001b[1;33m=\u001b[0m\u001b[0ms\u001b[0m\u001b[1;33m.\u001b[0m\u001b[0mflag7\u001b[0m\u001b[1;33m(\u001b[0m\u001b[0mp\u001b[0m\u001b[1;33m,\u001b[0m\u001b[0mc_copy\u001b[0m\u001b[1;33m,\u001b[0m\u001b[0mself\u001b[0m\u001b[1;33m.\u001b[0m\u001b[0muptribs\u001b[0m\u001b[1;33m[\u001b[0m\u001b[1;33m:\u001b[0m\u001b[1;33m,\u001b[0m\u001b[0mz\u001b[0m\u001b[1;33m]\u001b[0m\u001b[1;33m*\u001b[0m\u001b[1;36m0.0283168\u001b[0m\u001b[1;33m)\u001b[0m\u001b[1;33m\u001b[0m\u001b[1;33m\u001b[0m\u001b[0m\n\u001b[0m\u001b[0;32m    134\u001b[0m             \u001b[0mqc\u001b[0m\u001b[1;33m=\u001b[0m\u001b[0ms\u001b[0m\u001b[1;33m.\u001b[0m\u001b[0mfka7\u001b[0m\u001b[1;33m(\u001b[0m\u001b[0mp\u001b[0m\u001b[1;33m,\u001b[0m\u001b[0mc_copy\u001b[0m\u001b[1;33m,\u001b[0m\u001b[0mqb\u001b[0m\u001b[1;33m)\u001b[0m\u001b[1;33m\u001b[0m\u001b[1;33m\u001b[0m\u001b[0m\n\u001b[0;32m    135\u001b[0m \u001b[1;33m\u001b[0m\u001b[0m\n",
      "\u001b[1;31mTypeError\u001b[0m: Required argument 'qb' (pos 4) not found"
     ]
    }
   ],
   "source": [
    "m_2zone_2route.lagk_run()"
   ]
  },
  {
   "cell_type": "code",
   "execution_count": 42,
   "id": "valid-quick",
   "metadata": {},
   "outputs": [],
   "source": [
    "m_1zone = Model(forcings_1zone,pars_1zone,obs=flow)\n",
    "sim_flow_cfs_1zone = m_1zone.run()"
   ]
  },
  {
   "cell_type": "code",
   "execution_count": 12,
   "id": "listed-compiler",
   "metadata": {},
   "outputs": [],
   "source": [
    "m_2zone = Model(forcings_2zone,pars_2zone,flow)\n",
    "sim_flow_cfs_2zone = m_2zone.run()"
   ]
  },
  {
   "cell_type": "code",
   "execution_count": 16,
   "id": "ceramic-thumb",
   "metadata": {},
   "outputs": [],
   "source": [
    "#RUN LAGK#\n",
    "ts_in=6\n",
    "ts_out=6\n",
    "units='ENGL'#'METR'\n",
    "lagq=np.array([6, 0, 4, 10000, 3.5, 20000, 3, 40000, 3, 100000],dtype='f4')\n",
    "len_lagq=len(lagq)/2\n",
    "kq=np.array([1, 100, 1, 40000, 3, 100000],dtype='f4')\n",
    "len_kq=len(kq)/2\n",
    "init_co=float(6025)\n",
    "init_if=float(6018)\n",
    "init_of=float(6018)\n",
    "init_stor=float(6307)"
   ]
  },
  {
   "cell_type": "code",
   "execution_count": 17,
   "id": "bound-phrase",
   "metadata": {},
   "outputs": [],
   "source": [
    "p, c = s.pin7(ts_in,ts_out,len_lagq,len_kq,units,lagq,kq,init_co,init_if,init_of,init_stor)"
   ]
  },
  {
   "cell_type": "code",
   "execution_count": null,
   "id": "south-language",
   "metadata": {
    "scrolled": true
   },
   "outputs": [],
   "source": [
    "k_start=int(p[17])\n",
    "k_len=int(p[k_start-1])\n",
    "pina7_len=int(p[k_start+2*k_len])\n",
    "p_end=k_start+2*(k_len+pina7_len)+1\n",
    "p=p[:p_end]\n",
    "c=c[:int(c[0])]"
   ]
  },
  {
   "cell_type": "code",
   "execution_count": 19,
   "id": "backed-favorite",
   "metadata": {
    "scrolled": false
   },
   "outputs": [
    {
     "data": {
      "image/png": "[encoded data removed]",
      "text/plain": [
       "<Figure size 720x720 with 1 Axes>"
      ]
     },
     "metadata": {
      "needs_background": "light"
     },
     "output_type": "display_data"
    }
   ],
   "source": [
    "c_copy=c.copy()\n",
    "qb=s.flag7(p,c_copy,sakw1*0.0283168)\n",
    "qc=s.fka7(p,c_copy,qb)\n",
    "\n",
    "fortran_output=pd.DataFrame({'Lagged':qb,'Attenuated':qc},index=sakw1_chps.index)\n",
    "\n",
    "#ts_test['Lagged']=qb*35.3147#qb[:len(ts)]*35.3147\n",
    "#ts_test['Attenuated']=qc*35.3147#qb[:len(ts)]*35.3147\n",
    "#ts_test.to_csv(os.path.join(folder,'Lag_Operation_Output.csv'))\n",
    "\n",
    "d_start='2/5/1991'\n",
    "d_end='2/15/1991'\n",
    "    \n",
    "plt.plot(sakw1_chps.loc[d_start:d_end].SAKW1*0.0283168,label='IN')\n",
    "#plt.plot(fortran_output.loc[d_start:d_end].Lagged,label='Lagged')\n",
    "plt.plot(fortran_output.loc[d_start:d_end].Attenuated,label='Attenuated')\n",
    "plt.plot(sakw1_chps.loc[d_start:d_end].SAKW1R*0.0283168,label='CHPS_Output')\n",
    "#plt.plot(ts_test_lagged*0.0283168,label='Lagged')\n",
    "#plt.plot(ts_test.index,qc[:len(ts)],label='Attenuated')\n",
    "\n",
    "plt.xlabel('Timestep') \n",
    "plt.ylabel('Streamflow (cms)')\n",
    "\n",
    "plt.legend()\n",
    " \n",
    "plt.rcParams[\"figure.figsize\"] = (10,10)\n",
    "#ts_test['Lagged']=qb[:len(ts)]*35.3147\n",
    "#ts_test['Attenuated']=qc[:len(ts)]*35.3147\n",
    "#ts_test.to_csv(os.path.join(folder,'Lag_Operation_Output.csv'))"
   ]
  },
  {
   "cell_type": "code",
   "execution_count": 89,
   "id": "front-southeast",
   "metadata": {},
   "outputs": [
    {
     "data": {
      "text/plain": [
       "CONSTANT_LAG_VALUE    22.0\n",
       "LAG1                  60.0\n",
       "LAG2                  40.0\n",
       "LAG3                  30.0\n",
       "LAG4                  27.0\n",
       "LAG5                  24.0\n",
       "LAG6                  12.0\n",
       "LAG7                  18.0\n",
       "LAG8                   NaN\n",
       "dtype: float64"
      ]
     },
     "execution_count": 89,
     "metadata": {},
     "output_type": "execute_result"
    }
   ],
   "source": [
    "ops_lagk_parm.loc[:,((ops_lagk_parm.columns.str.contains('LAG'))&(~ops_lagk_parm.columns.str.contains('_')))|(ops_lagk_parm.columns.str.contains('CONSTANT_LAG'))].max()"
   ]
  },
  {
   "cell_type": "code",
   "execution_count": 90,
   "id": "banner-battlefield",
   "metadata": {},
   "outputs": [
    {
     "data": {
      "text/plain": [
       "CONSTANT_K_VALUE    12.0\n",
       "K1                  12.0\n",
       "K2                  60.0\n",
       "K3                  30.0\n",
       "K4                   3.0\n",
       "K5                   9.0\n",
       "K6                   NaN\n",
       "K7                   NaN\n",
       "K8                   NaN\n",
       "dtype: float64"
      ]
     },
     "execution_count": 90,
     "metadata": {},
     "output_type": "execute_result"
    }
   ],
   "source": [
    "ops_lagk_parm.loc[:,((ops_lagk_parm.columns.str.contains('K'))&(~ops_lagk_parm.columns.str.contains('_')))|(ops_lagk_parm.columns.str.contains('CONSTANT_K'))].max()"
   ]
  },
  {
   "cell_type": "code",
   "execution_count": 46,
   "id": "foreign-seating",
   "metadata": {},
   "outputs": [],
   "source": [
    "ops_lagk_parm=pd.read_csv('LAGK_Parameters.csv',index_col='Id')\n",
    "lag=ops_lagk_parm.loc[:,(ops_lagk_parm.columns.str.contains('LAG'))&(~ops_lagk_parm.columns.str.contains('_'))]\n",
    "lag_q=ops_lagk_parm.loc[:,ops_lagk_parm.columns.str.contains('LAG_')&(~ops_lagk_parm.columns.str.contains('CONSTANT'))]\n",
    "\n",
    "k=ops_lagk_parm.loc[:,(ops_lagk_parm.columns.str.contains('K'))&(~ops_lagk_parm.columns.str.contains('_'))]\n",
    "k_q=ops_lagk_parm.loc[:,ops_lagk_parm.columns.str.contains('K_')&(~ops_lagk_parm.columns.str.contains('CONSTANT'))]"
   ]
  },
  {
   "cell_type": "code",
   "execution_count": 75,
   "id": "major-grenada",
   "metadata": {},
   "outputs": [
    {
     "name": "stdout",
     "output_type": "stream",
     "text": [
      "True\n"
     ]
    }
   ],
   "source": [
    "if len(lag_df)>1 or len(k_df)>1:\n",
    "    print(True)"
   ]
  },
  {
   "cell_type": "code",
   "execution_count": 79,
   "id": "considerable-questionnaire",
   "metadata": {
    "scrolled": true
   },
   "outputs": [],
   "source": [
    "for lid in range(len(ops_lagk_parm)):\n",
    "\n",
    "    lag_df=pd.DataFrame({'Q':lag_q.loc[lag_q.index[lid]].values},index=lag.loc[lag.index[lid]].values).dropna()\n",
    "    k_df=pd.DataFrame({'Lag':k_q.loc[k_q.index[lid]].values},index=k.loc[k.index[lid]].values).dropna()\n",
    "\n",
    "    if len(lag_df)>1 or len(k_df)>1:\n",
    "\n",
    "        fig, (ax1, ax2) = plt.subplots(1, 2, sharex=True, dpi= 80, facecolor='w',figsize=(10, 10))\n",
    "\n",
    "        if len(lag_df)>1:\n",
    "            ax1.plot(lag_df)\n",
    "        if len(k_df)>1:\n",
    "            ax2.plot(k_df)\n",
    "\n",
    "        ax1.set_xlabel('Lag (hr)')\n",
    "        ax2.set_xlabel('k (hr)')\n",
    "        ax1.set_ylabel('Streamflow (Q)')\n",
    "        ax2.set_ylabel('Streamflow (Q)')\n",
    "\n",
    "        ax1.grid()\n",
    "        ax2.grid()\n",
    "\n",
    "        ax1.title.set_text('LAG-Q')\n",
    "        ax2.title.set_text('K-Q')\n",
    "\n",
    "        fig.suptitle(ops_lagk_parm.index[lid], fontsize=16)\n",
    "\n",
    "        #Set tight layout\n",
    "        fig.tight_layout\n",
    "\n",
    "        fig.savefig('legacy_lagk_tables\\\\'+ops_lagk_parm.index[lid]+'_tables.png')\n",
    "\n",
    "        plt.clf()\n",
    "        plt.close('all')  "
   ]
  },
  {
   "cell_type": "code",
   "execution_count": 78,
   "id": "literary-genre",
   "metadata": {},
   "outputs": [
    {
     "data": {
      "text/plain": [
       "range(0, 210)"
      ]
     },
     "execution_count": 78,
     "metadata": {},
     "output_type": "execute_result"
    }
   ],
   "source": [
    "range(len(ops_lagk_parm))"
   ]
  }
 ],
 "metadata": {
  "kernelspec": {
   "display_name": "Python 3",
   "language": "python",
   "name": "python3"
  },
  "language_info": {
   "codemirror_mode": {
    "name": "ipython",
    "version": 3
   },
   "file_extension": ".py",
   "mimetype": "text/x-python",
   "name": "python",
   "nbconvert_exporter": "python",
   "pygments_lexer": "ipython3",
   "version": "3.6.12"
  }
 },
 "nbformat": 4,
 "nbformat_minor": 5
}
