{
 "cells": [
  {
   "cell_type": "code",
   "execution_count": 57,
   "id": "industrial-remains",
   "metadata": {},
   "outputs": [
    {
     "name": "stdout",
     "output_type": "stream",
     "text": [
      "The autoreload extension is already loaded. To reload it, use:\n",
      "  %reload_ext autoreload\n"
     ]
    }
   ],
   "source": [
    "%load_ext autoreload\n",
    "%autoreload 2\n",
    "\n",
    "import os, sys\n",
    "import pandas as pd\n",
    "import numpy as np\n",
    "import matplotlib.pyplot as plt\n",
    "import nwsrfs_models.main as s\n",
    "from utilities.model import Model"
   ]
  },
  {
   "cell_type": "code",
   "execution_count": null,
   "id": "assigned-canyon",
   "metadata": {},
   "outputs": [],
   "source": [
    "s.__name__"
   ]
  },
  {
   "cell_type": "code",
   "execution_count": 10,
   "id": "fitted-belgium",
   "metadata": {},
   "outputs": [],
   "source": [
    "folder='C:\\\\Users\\\\geoffrey.walters\\\\Documents\\\\AORC\\\\AutoCalb\\\\Repo\\\\rfc-hydro-models\\\\py-rfchydromodels\\\\working'"
   ]
  },
  {
   "cell_type": "code",
   "execution_count": 6,
   "id": "nasty-struggle",
   "metadata": {},
   "outputs": [],
   "source": [
    "ts_test=pd.read_csv(os.path.join(folder,'Flow_Test.csv'),skiprows=1,index_col='Hour')\n",
    "ts=ts_test.Inflow.astype('f4').to_numpy()\n",
    "\n",
    "conw1_chps=pd.read_excel(os.path.join(folder,'CONW1R_Lagk_Check.xlsx'),'Flows',index_col='Date_Time',parse_dates=True)\n",
    "conw1=conw1_chps.CONW1.astype('f4').to_numpy()\n",
    "\n",
    "sakw1_chps=pd.read_excel(os.path.join(folder,'SAKW1R_Lagk_Check.xlsx'),'Flows',index_col='Date_Time',parse_dates=True)\n",
    "sakw1=sakw1_chps.SAKW1.astype('f4').to_numpy()"
   ]
  },
  {
   "cell_type": "code",
   "execution_count": 7,
   "id": "analyzed-reset",
   "metadata": {},
   "outputs": [
    {
     "data": {
      "text/html": [
       "<div>\n",
       "<style scoped>\n",
       "    .dataframe tbody tr th:only-of-type {\n",
       "        vertical-align: middle;\n",
       "    }\n",
       "\n",
       "    .dataframe tbody tr th {\n",
       "        vertical-align: top;\n",
       "    }\n",
       "\n",
       "    .dataframe thead th {\n",
       "        text-align: right;\n",
       "    }\n",
       "</style>\n",
       "<table border=\"1\" class=\"dataframe\">\n",
       "  <thead>\n",
       "    <tr style=\"text-align: right;\">\n",
       "      <th></th>\n",
       "      <th>p_name</th>\n",
       "      <th>name</th>\n",
       "      <th>type</th>\n",
       "      <th>zone</th>\n",
       "      <th>value</th>\n",
       "    </tr>\n",
       "  </thead>\n",
       "  <tbody>\n",
       "    <tr>\n",
       "      <th>0</th>\n",
       "      <td>adc_a_TLMO3-1</td>\n",
       "      <td>adc_a</td>\n",
       "      <td>snow</td>\n",
       "      <td>TLMO3-1</td>\n",
       "      <td>0.730028</td>\n",
       "    </tr>\n",
       "    <tr>\n",
       "      <th>1</th>\n",
       "      <td>adc_a_TLMO3-2</td>\n",
       "      <td>adc_a</td>\n",
       "      <td>snow</td>\n",
       "      <td>TLMO3-2</td>\n",
       "      <td>0.373551</td>\n",
       "    </tr>\n",
       "    <tr>\n",
       "      <th>2</th>\n",
       "      <td>adc_b_TLMO3-1</td>\n",
       "      <td>adc_b</td>\n",
       "      <td>snow</td>\n",
       "      <td>TLMO3-1</td>\n",
       "      <td>9.435536</td>\n",
       "    </tr>\n",
       "    <tr>\n",
       "      <th>3</th>\n",
       "      <td>adc_b_TLMO3-2</td>\n",
       "      <td>adc_b</td>\n",
       "      <td>snow</td>\n",
       "      <td>TLMO3-2</td>\n",
       "      <td>8.302735</td>\n",
       "    </tr>\n",
       "    <tr>\n",
       "      <th>4</th>\n",
       "      <td>adc_c_TLMO3-1</td>\n",
       "      <td>adc_c</td>\n",
       "      <td>snow</td>\n",
       "      <td>TLMO3-1</td>\n",
       "      <td>1.957479</td>\n",
       "    </tr>\n",
       "    <tr>\n",
       "      <th>...</th>\n",
       "      <td>...</td>\n",
       "      <td>...</td>\n",
       "      <td>...</td>\n",
       "      <td>...</td>\n",
       "      <td>...</td>\n",
       "    </tr>\n",
       "    <tr>\n",
       "      <th>313</th>\n",
       "      <td>uztwm_TLMO3-2</td>\n",
       "      <td>uztwm</td>\n",
       "      <td>sac</td>\n",
       "      <td>TLMO3-2</td>\n",
       "      <td>125.351540</td>\n",
       "    </tr>\n",
       "    <tr>\n",
       "      <th>314</th>\n",
       "      <td>zone_area_TLMO3-1</td>\n",
       "      <td>zone_area</td>\n",
       "      <td>sac</td>\n",
       "      <td>TLMO3-1</td>\n",
       "      <td>275.349000</td>\n",
       "    </tr>\n",
       "    <tr>\n",
       "      <th>315</th>\n",
       "      <td>zone_area_TLMO3-2</td>\n",
       "      <td>zone_area</td>\n",
       "      <td>sac</td>\n",
       "      <td>TLMO3-2</td>\n",
       "      <td>143.895000</td>\n",
       "    </tr>\n",
       "    <tr>\n",
       "      <th>316</th>\n",
       "      <td>zperc_TLMO3-1</td>\n",
       "      <td>zperc</td>\n",
       "      <td>sac</td>\n",
       "      <td>TLMO3-1</td>\n",
       "      <td>80.186588</td>\n",
       "    </tr>\n",
       "    <tr>\n",
       "      <th>317</th>\n",
       "      <td>zperc_TLMO3-2</td>\n",
       "      <td>zperc</td>\n",
       "      <td>sac</td>\n",
       "      <td>TLMO3-2</td>\n",
       "      <td>196.577020</td>\n",
       "    </tr>\n",
       "  </tbody>\n",
       "</table>\n",
       "<p>318 rows × 5 columns</p>\n",
       "</div>"
      ],
      "text/plain": [
       "                p_name       name  type     zone       value\n",
       "0        adc_a_TLMO3-1      adc_a  snow  TLMO3-1    0.730028\n",
       "1        adc_a_TLMO3-2      adc_a  snow  TLMO3-2    0.373551\n",
       "2        adc_b_TLMO3-1      adc_b  snow  TLMO3-1    9.435536\n",
       "3        adc_b_TLMO3-2      adc_b  snow  TLMO3-2    8.302735\n",
       "4        adc_c_TLMO3-1      adc_c  snow  TLMO3-1    1.957479\n",
       "..                 ...        ...   ...      ...         ...\n",
       "313      uztwm_TLMO3-2      uztwm   sac  TLMO3-2  125.351540\n",
       "314  zone_area_TLMO3-1  zone_area   sac  TLMO3-1  275.349000\n",
       "315  zone_area_TLMO3-2  zone_area   sac  TLMO3-2  143.895000\n",
       "316      zperc_TLMO3-1      zperc   sac  TLMO3-1   80.186588\n",
       "317      zperc_TLMO3-2      zperc   sac  TLMO3-2  196.577020\n",
       "\n",
       "[318 rows x 5 columns]"
      ]
     },
     "execution_count": 7,
     "metadata": {},
     "output_type": "execute_result"
    }
   ],
   "source": [
    "pars_1zone"
   ]
  },
  {
   "cell_type": "code",
   "execution_count": 71,
   "id": "operational-article",
   "metadata": {},
   "outputs": [
    {
     "data": {
      "text/html": [
       "<div>\n",
       "<style scoped>\n",
       "    .dataframe tbody tr th:only-of-type {\n",
       "        vertical-align: middle;\n",
       "    }\n",
       "\n",
       "    .dataframe tbody tr th {\n",
       "        vertical-align: top;\n",
       "    }\n",
       "\n",
       "    .dataframe thead th {\n",
       "        text-align: right;\n",
       "    }\n",
       "</style>\n",
       "<table border=\"1\" class=\"dataframe\">\n",
       "  <thead>\n",
       "    <tr style=\"text-align: right;\">\n",
       "      <th></th>\n",
       "      <th>p_name</th>\n",
       "      <th>name</th>\n",
       "      <th>type</th>\n",
       "      <th>zone</th>\n",
       "      <th>value</th>\n",
       "    </tr>\n",
       "  </thead>\n",
       "  <tbody>\n",
       "    <tr>\n",
       "      <th>0</th>\n",
       "      <td>adc_a_TLMO3-1</td>\n",
       "      <td>adc_a</td>\n",
       "      <td>snow</td>\n",
       "      <td>TLMO3-1</td>\n",
       "      <td>0.498158</td>\n",
       "    </tr>\n",
       "    <tr>\n",
       "      <th>1</th>\n",
       "      <td>adc_b_TLMO3-1</td>\n",
       "      <td>adc_b</td>\n",
       "      <td>snow</td>\n",
       "      <td>TLMO3-1</td>\n",
       "      <td>0.679327</td>\n",
       "    </tr>\n",
       "    <tr>\n",
       "      <th>2</th>\n",
       "      <td>adc_c_TLMO3-1</td>\n",
       "      <td>adc_c</td>\n",
       "      <td>snow</td>\n",
       "      <td>TLMO3-1</td>\n",
       "      <td>8.352456</td>\n",
       "    </tr>\n",
       "    <tr>\n",
       "      <th>3</th>\n",
       "      <td>adimp_TLMO3-1</td>\n",
       "      <td>adimp</td>\n",
       "      <td>sac</td>\n",
       "      <td>TLMO3-1</td>\n",
       "      <td>0.095745</td>\n",
       "    </tr>\n",
       "    <tr>\n",
       "      <th>4</th>\n",
       "      <td>alat_TLMO3-1</td>\n",
       "      <td>alat</td>\n",
       "      <td>snow</td>\n",
       "      <td>TLMO3-1</td>\n",
       "      <td>45.578000</td>\n",
       "    </tr>\n",
       "    <tr>\n",
       "      <th>...</th>\n",
       "      <td>...</td>\n",
       "      <td>...</td>\n",
       "      <td>...</td>\n",
       "      <td>...</td>\n",
       "      <td>...</td>\n",
       "    </tr>\n",
       "    <tr>\n",
       "      <th>162</th>\n",
       "      <td>uzfwm_TLMO3-1</td>\n",
       "      <td>uzfwm</td>\n",
       "      <td>sac</td>\n",
       "      <td>TLMO3-1</td>\n",
       "      <td>83.566467</td>\n",
       "    </tr>\n",
       "    <tr>\n",
       "      <th>163</th>\n",
       "      <td>uzk_TLMO3-1</td>\n",
       "      <td>uzk</td>\n",
       "      <td>sac</td>\n",
       "      <td>TLMO3-1</td>\n",
       "      <td>0.159197</td>\n",
       "    </tr>\n",
       "    <tr>\n",
       "      <th>164</th>\n",
       "      <td>uztwm_TLMO3-1</td>\n",
       "      <td>uztwm</td>\n",
       "      <td>sac</td>\n",
       "      <td>TLMO3-1</td>\n",
       "      <td>284.494580</td>\n",
       "    </tr>\n",
       "    <tr>\n",
       "      <th>165</th>\n",
       "      <td>zone_area_TLMO3-1</td>\n",
       "      <td>zone_area</td>\n",
       "      <td>sac</td>\n",
       "      <td>TLMO3-1</td>\n",
       "      <td>417.566000</td>\n",
       "    </tr>\n",
       "    <tr>\n",
       "      <th>166</th>\n",
       "      <td>zperc_TLMO3-1</td>\n",
       "      <td>zperc</td>\n",
       "      <td>sac</td>\n",
       "      <td>TLMO3-1</td>\n",
       "      <td>69.803438</td>\n",
       "    </tr>\n",
       "  </tbody>\n",
       "</table>\n",
       "<p>167 rows × 5 columns</p>\n",
       "</div>"
      ],
      "text/plain": [
       "                p_name       name  type     zone       value\n",
       "0        adc_a_TLMO3-1      adc_a  snow  TLMO3-1    0.498158\n",
       "1        adc_b_TLMO3-1      adc_b  snow  TLMO3-1    0.679327\n",
       "2        adc_c_TLMO3-1      adc_c  snow  TLMO3-1    8.352456\n",
       "3        adimp_TLMO3-1      adimp   sac  TLMO3-1    0.095745\n",
       "4         alat_TLMO3-1       alat  snow  TLMO3-1   45.578000\n",
       "..                 ...        ...   ...      ...         ...\n",
       "162      uzfwm_TLMO3-1      uzfwm   sac  TLMO3-1   83.566467\n",
       "163        uzk_TLMO3-1        uzk   sac  TLMO3-1    0.159197\n",
       "164      uztwm_TLMO3-1      uztwm   sac  TLMO3-1  284.494580\n",
       "165  zone_area_TLMO3-1  zone_area   sac  TLMO3-1  417.566000\n",
       "166      zperc_TLMO3-1      zperc   sac  TLMO3-1   69.803438\n",
       "\n",
       "[167 rows x 5 columns]"
      ]
     },
     "execution_count": 71,
     "metadata": {},
     "output_type": "execute_result"
    }
   ],
   "source": [
    "#pd.read_csv(os.path.join(folder,'basins-1zone','TLMO3','results_01','pars_optimal.csv'))\n",
    "pd.read_csv(os.path.join(folder,'basins_1zone','pars_optimal.csv'))"
   ]
  },
  {
   "cell_type": "code",
   "execution_count": 113,
   "id": "welsh-unknown",
   "metadata": {},
   "outputs": [],
   "source": [
    "pars_1zone = pd.read_csv(os.path.join(folder,'basins_1zone','TLMO3','results_01','pars_optimal.csv'))\n",
    "pars_2zone = pd.read_csv(os.path.join(folder,'basins_2zone','TLMO3','results_01','pars_optimal.csv'))\n",
    "\n",
    "forcings_1zone = [pd.read_csv(os.path.join(folder,'basins_1zone','TLMO3','forcing_TLMO3-1.csv'))]\n",
    "forcings_2zone = [pd.read_csv(os.path.join(folder,'basins_2zone','TLMO3','forcing_TLMO3-1.csv')),\n",
    "                  pd.read_csv(os.path.join(folder,'basins_2zone','TLMO3','forcing_TLMO3-2.csv'))]\n",
    "\n",
    "flow = pd.read_csv(os.path.join(folder,'basins_2zone','TLMO3','results_01','optimal_6h.csv'))\n",
    "states = pd.read_csv(os.path.join(folder,'basins_2zone','TLMO3','results_01','optimal_states_6h.csv'))\n",
    "\n",
    "basin = 'TLMO3'\n",
    "\n",
    "fa_limits_basin = pd.read_csv(os.path.join(folder,'forcing-adj-limits_climo.csv'))\n",
    "fa_limits_basin = fa_limits_basin[(fa_limits_basin['basin']==basin) &\n",
    "                      (fa_limits_basin['zone']==basin+'-1')].copy()"
   ]
  },
  {
   "cell_type": "code",
   "execution_count": 114,
   "id": "precise-emerald",
   "metadata": {},
   "outputs": [],
   "source": [
    "flow.rename(columns={'sim_flow_cfs':'sim_flow_cfs_r'},inplace=True)\n",
    "\n",
    "forcings_1zone[0].index = pd.to_datetime(forcings_1zone[0][['year', 'month', 'day', 'hour']])\n",
    "for f in forcings_2zone:\n",
    "    f.index = pd.to_datetime(f[['year', 'month', 'day', 'hour']])\n",
    "flow.index = pd.to_datetime(flow[['year', 'month', 'day', 'hour']])\n",
    "flow['datetime'] = flow.index"
   ]
  },
  {
   "cell_type": "code",
   "execution_count": 96,
   "id": "divided-danish",
   "metadata": {},
   "outputs": [],
   "source": [
    "fa={}\n",
    "\n",
    "for fa_par in pars.loc[pars['type']=='fa','name']:\n",
    "    fa[fa_par]=pars[pars['name'] == fa_par]['value']"
   ]
  },
  {
   "cell_type": "code",
   "execution_count": 97,
   "id": "established-italic",
   "metadata": {},
   "outputs": [
    {
     "data": {
      "text/plain": [
       "32    1.135745\n",
       "Name: value, dtype: float64"
      ]
     },
     "execution_count": 97,
     "metadata": {},
     "output_type": "execute_result"
    }
   ],
   "source": [
    "fa['map_scale']"
   ]
  },
  {
   "cell_type": "code",
   "execution_count": 103,
   "id": "respected-favor",
   "metadata": {},
   "outputs": [],
   "source": [
    "pars=pars_1zone\n",
    "# fa adjustemnt parameters:  scale, p_redist, std, shift\n",
    "map_fa_pars = pd.concat([fa['map_scale'], fa['map_p_redist'], fa['map_std'], fa['map_shift']]).to_numpy()\n",
    "mat_fa_pars = pd.concat([fa['mat_scale'], fa['mat_p_redist'], fa['mat_std'], fa['mat_shift']]).to_numpy()\n",
    "ptps_fa_pars = pd.concat([fa['ptps_scale'], fa['ptps_p_redist'], fa['ptps_std'], fa['ptps_shift']]).to_numpy()\n",
    "pet_fa_pars = pd.concat([fa['pet_scale'], fa['pet_p_redist'], fa['pet_std'], fa['pet_shift']]).to_numpy()"
   ]
  },
  {
   "cell_type": "code",
   "execution_count": 102,
   "id": "discrete-arabic",
   "metadata": {},
   "outputs": [
    {
     "data": {
      "text/plain": [
       "array([1.1357447 , 0.16698601, 1.0240923 , 1.766347  ])"
      ]
     },
     "execution_count": 102,
     "metadata": {},
     "output_type": "execute_result"
    }
   ],
   "source": [
    "map_fa_pars"
   ]
  },
  {
   "cell_type": "code",
   "execution_count": null,
   "id": "inclusive-humanity",
   "metadata": {
    "scrolled": true
   },
   "outputs": [],
   "source": [
    "print(s.sacsnow.__doc__)"
   ]
  },
  {
   "cell_type": "code",
   "execution_count": 105,
   "id": "anonymous-agent",
   "metadata": {},
   "outputs": [
    {
     "data": {
      "text/plain": [
       "array([1.1357447 , 0.16698601, 1.0240923 , 1.766347  ])"
      ]
     },
     "execution_count": 105,
     "metadata": {},
     "output_type": "execute_result"
    }
   ],
   "source": [
    "m_1zone.map_fa_pars"
   ]
  },
  {
   "cell_type": "code",
   "execution_count": 163,
   "id": "rural-strap",
   "metadata": {
    "scrolled": true
   },
   "outputs": [],
   "source": [
    "m_1zone = Model(forcings_1zone,pars_1zone,fa_limits_basin,flow)\n",
    "sim_flow_cfs_1zone = m_1zone.run()"
   ]
  },
  {
   "cell_type": "code",
   "execution_count": 162,
   "id": "positive-split",
   "metadata": {},
   "outputs": [],
   "source": [
    "m_2zone = Model(forcings_2zone,pars_2zone,fa_limits_basin,flow)\n",
    "sim_flow_cfs_2zone = m_2zone.run()"
   ]
  },
  {
   "cell_type": "code",
   "execution_count": 153,
   "id": "figured-consensus",
   "metadata": {},
   "outputs": [
    {
     "data": {
      "text/plain": [
       "array([156.94437 ,  14.958142])"
      ]
     },
     "execution_count": 153,
     "metadata": {},
     "output_type": "execute_result"
    }
   ],
   "source": [
    "p['init_uztwc'].values"
   ]
  },
  {
   "cell_type": "code",
   "execution_count": 156,
   "id": "overall-voice",
   "metadata": {},
   "outputs": [
    {
     "data": {
      "text/plain": [
       "array([[  0.      ,   0.      ],\n",
       "       [156.94437 ,  14.958142]])"
      ]
     },
     "execution_count": 156,
     "metadata": {},
     "output_type": "execute_result"
    }
   ],
   "source": [
    "np.concatenate(([p['init_swe']],[p['init_uztwc']]),axis=0)\n",
    "#np.concatenate(([[1,1]],[[2,2]]),axis=0)"
   ]
  },
  {
   "cell_type": "code",
   "execution_count": 157,
   "id": "radical-drama",
   "metadata": {},
   "outputs": [
    {
     "data": {
      "text/plain": [
       "array([[0.0000000e+00, 0.0000000e+00],\n",
       "       [1.5694437e+02, 1.4958142e+01],\n",
       "       [1.6720241e+01, 3.2377623e+02],\n",
       "       [4.5087196e+02, 7.1507445e+02],\n",
       "       [1.4001136e-02, 9.3521082e+01],\n",
       "       [4.6718036e+00, 1.3037867e+02],\n",
       "       [4.3506666e+02, 7.0641920e+02]])"
      ]
     },
     "execution_count": 157,
     "metadata": {},
     "output_type": "execute_result"
    }
   ],
   "source": [
    "np.concatenate(([p['init_swe']], [p['init_uztwc']], [p['init_uzfwc']], [p['init_lztwc']],\n",
    "        [p['init_lzfsc']], [p['init_lzfpc']], [p['init_adimc']]),axis=0)"
   ]
  },
  {
   "cell_type": "code",
   "execution_count": 116,
   "id": "protecting-buyer",
   "metadata": {},
   "outputs": [],
   "source": [
    "pars_2zone\n",
    "\n",
    "p = {}\n",
    "for par in pars_2zone['name'].unique():\n",
    "     p[par] =  pars_2zone[ pars_2zone['name'] == par]['value']\n",
    "\n",
    "init = pd.concat([p['init_swe'], p['init_uztwc'], p['init_uzfwc'], p['init_lztwc'],\n",
    "        p['init_lzfsc'], p['init_lzfpc'], p['init_adimc']]).to_numpy()"
   ]
  },
  {
   "cell_type": "code",
   "execution_count": null,
   "id": "substantial-generic",
   "metadata": {},
   "outputs": [],
   "source": [
    "#RUN LAGK#\n",
    "ts_in=6\n",
    "ts_out=6\n",
    "units='ENGL'#'METR'\n",
    "lagq=np.array([6, 0, 4, 10000, 3.5, 20000, 3, 40000, 3, 100000],dtype='f4')\n",
    "len_lagq=len(lagq)/2\n",
    "kq=np.array([1, 100, 1, 40000, 3, 100000],dtype='f4')\n",
    "len_kq=len(kq)/2\n",
    "init_co=float(6025)\n",
    "init_if=float(6018)\n",
    "init_of=float(6018)\n",
    "init_stor=float(6307)"
   ]
  },
  {
   "cell_type": "code",
   "execution_count": null,
   "id": "billion-springer",
   "metadata": {},
   "outputs": [],
   "source": [
    "p, c = s.pin7(ts_in,ts_out,len_lagq,len_kq,units,lagq,kq,init_co,init_if,init_of,init_stor)"
   ]
  },
  {
   "cell_type": "code",
   "execution_count": null,
   "id": "accessible-penetration",
   "metadata": {
    "scrolled": true
   },
   "outputs": [],
   "source": [
    "k_start=int(p[17])\n",
    "k_len=int(p[k_start-1])\n",
    "pina7_len=int(p[k_start+2*k_len])\n",
    "p_end=k_start+2*(k_len+pina7_len)+1\n",
    "p=p[:p_end]\n",
    "c=c[:int(c[0])]"
   ]
  },
  {
   "cell_type": "code",
   "execution_count": null,
   "id": "angry-liberal",
   "metadata": {
    "scrolled": false
   },
   "outputs": [],
   "source": [
    "c_copy=c.copy()\n",
    "qb=s.flag7(p,c_copy,sakw1*0.0283168)\n",
    "qc=s.fka7(p,c_copy,qb)\n",
    "\n",
    "fortran_output=pd.DataFrame({'Lagged':qb,'Attenuated':qc},index=sakw1_chps.index)\n",
    "\n",
    "#ts_test['Lagged']=qb*35.3147#qb[:len(ts)]*35.3147\n",
    "#ts_test['Attenuated']=qc*35.3147#qb[:len(ts)]*35.3147\n",
    "#ts_test.to_csv(os.path.join(folder,'Lag_Operation_Output.csv'))\n",
    "\n",
    "d_start='2/5/1991'\n",
    "d_end='2/15/1991'\n",
    "    \n",
    "plt.plot(sakw1_chps.loc[d_start:d_end].SAKW1*0.0283168,label='IN')\n",
    "#plt.plot(fortran_output.loc[d_start:d_end].Lagged,label='Lagged')\n",
    "plt.plot(fortran_output.loc[d_start:d_end].Attenuated,label='Attenuated')\n",
    "#plt.plot(sakw1_chps.loc[d_start:d_end].SAKW1R*0.0283168,label='CHPS_Output')\n",
    "#plt.plot(ts_test_lagged*0.0283168,label='Lagged')\n",
    "#plt.plot(ts_test.index,qc[:len(ts)],label='Attenuated')\n",
    "\n",
    "plt.xlabel('Timestep') \n",
    "plt.ylabel('Streamflow (cms)')\n",
    "\n",
    "plt.legend()\n",
    " \n",
    "plt.rcParams[\"figure.figsize\"] = (10,10)\n",
    "#ts_test['Lagged']=qb[:len(ts)]*35.3147\n",
    "#ts_test['Attenuated']=qc[:len(ts)]*35.3147\n",
    "#ts_test.to_csv(os.path.join(folder,'Lag_Operation_Output.csv'))"
   ]
  },
  {
   "cell_type": "code",
   "execution_count": null,
   "id": "norwegian-spray",
   "metadata": {},
   "outputs": [],
   "source": [
    "fortran_output"
   ]
  },
  {
   "cell_type": "code",
   "execution_count": null,
   "id": "graduate-fusion",
   "metadata": {},
   "outputs": [],
   "source": [
    "qb"
   ]
  },
  {
   "cell_type": "code",
   "execution_count": null,
   "id": "dental-reconstruction",
   "metadata": {},
   "outputs": [],
   "source": [
    "plt.plot(conw1_chps.iloc[:100].CONW1R*0.0283168,label='CHPS')\n",
    "plt.plot(conw1_chps.iloc[:100].CONW1.index,qc,label='Attenuated')\n",
    "\n"
   ]
  }
 ],
 "metadata": {
  "kernelspec": {
   "display_name": "Python 3",
   "language": "python",
   "name": "python3"
  },
  "language_info": {
   "codemirror_mode": {
    "name": "ipython",
    "version": 3
   },
   "file_extension": ".py",
   "mimetype": "text/x-python",
   "name": "python",
   "nbconvert_exporter": "python",
   "pygments_lexer": "ipython3",
   "version": "3.6.12"
  }
 },
 "nbformat": 4,
 "nbformat_minor": 5
}
